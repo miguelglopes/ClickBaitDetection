{
 "nbformat": 4,
 "nbformat_minor": 2,
 "metadata": {
  "language_info": {
   "name": "python",
   "codemirror_mode": {
    "name": "ipython",
    "version": 3
   },
   "version": "3.7.5-final"
  },
  "orig_nbformat": 2,
  "file_extension": ".py",
  "mimetype": "text/x-python",
  "name": "python",
  "npconvert_exporter": "python",
  "pygments_lexer": "ipython3",
  "version": 3,
  "kernelspec": {
   "name": "python37564bit1f426a3c963145fc97003cef4fed0cfd",
   "display_name": "Python 3.7.5 64-bit"
  }
 },
 "cells": [
  {
   "cell_type": "code",
   "execution_count": 7,
   "metadata": {},
   "outputs": [],
   "source": [
    "import pandas\n",
    "import pickle\n",
    "from gensim.models.keyedvectors import KeyedVectors\n",
    "from gensim.models import Doc2Vec\n",
    "from gensim.models.doc2vec import TaggedDocument\n",
    "import matplotlib.pyplot as plt\n",
    "import numpy\n",
    "from random import sample\n",
    "from keras.preprocessing.image import load_img, img_to_array\n",
    "from keras.applications import imagenet_utils\n",
    "from keras.applications.vgg19 import VGG19, decode_predictions\n",
    "from keras import Model"
   ]
  },
  {
   "cell_type": "code",
   "execution_count": 8,
   "metadata": {},
   "outputs": [
    {
     "data": {
      "text/html": "<div>\n<style scoped>\n    .dataframe tbody tr th:only-of-type {\n        vertical-align: middle;\n    }\n\n    .dataframe tbody tr th {\n        vertical-align: top;\n    }\n\n    .dataframe thead th {\n        text-align: right;\n    }\n</style>\n<table border=\"1\" class=\"dataframe\">\n  <thead>\n    <tr style=\"text-align: right;\">\n      <th></th>\n      <th>truthJudgments</th>\n      <th>truthMean</th>\n      <th>id</th>\n      <th>truthClass</th>\n      <th>truthMedian</th>\n      <th>truthMode</th>\n    </tr>\n  </thead>\n  <tbody>\n    <tr>\n      <th>0</th>\n      <td>[0.0, 0.0, 0.0, 0.33333333330000003, 0.0]</td>\n      <td>0.066667</td>\n      <td>804113781580328960</td>\n      <td>no-clickbait</td>\n      <td>0.000000</td>\n      <td>0.0</td>\n    </tr>\n    <tr>\n      <th>1</th>\n      <td>[1.0, 0.0, 0.6666666666000001, 1.0, 1.0]</td>\n      <td>0.733333</td>\n      <td>804119512010424320</td>\n      <td>clickbait</td>\n      <td>1.000000</td>\n      <td>1.0</td>\n    </tr>\n    <tr>\n      <th>2</th>\n      <td>[0.6666666666000001, 0.6666666666000001, 0.0, ...</td>\n      <td>0.333333</td>\n      <td>804121272967983104</td>\n      <td>no-clickbait</td>\n      <td>0.333333</td>\n      <td>0.0</td>\n    </tr>\n    <tr>\n      <th>3</th>\n      <td>[0.0, 0.0, 0.0, 0.33333333330000003, 0.0]</td>\n      <td>0.066667</td>\n      <td>804123103995580416</td>\n      <td>no-clickbait</td>\n      <td>0.000000</td>\n      <td>0.0</td>\n    </tr>\n    <tr>\n      <th>4</th>\n      <td>[0.0, 0.6666666666000001, 0.0, 0.0, 0.0]</td>\n      <td>0.133333</td>\n      <td>804126501117435904</td>\n      <td>no-clickbait</td>\n      <td>0.000000</td>\n      <td>0.0</td>\n    </tr>\n  </tbody>\n</table>\n</div>",
      "text/plain": "                                      truthJudgments  truthMean  \\\n0          [0.0, 0.0, 0.0, 0.33333333330000003, 0.0]   0.066667   \n1           [1.0, 0.0, 0.6666666666000001, 1.0, 1.0]   0.733333   \n2  [0.6666666666000001, 0.6666666666000001, 0.0, ...   0.333333   \n3          [0.0, 0.0, 0.0, 0.33333333330000003, 0.0]   0.066667   \n4           [0.0, 0.6666666666000001, 0.0, 0.0, 0.0]   0.133333   \n\n                   id    truthClass  truthMedian  truthMode  \n0  804113781580328960  no-clickbait     0.000000        0.0  \n1  804119512010424320     clickbait     1.000000        1.0  \n2  804121272967983104  no-clickbait     0.333333        0.0  \n3  804123103995580416  no-clickbait     0.000000        0.0  \n4  804126501117435904  no-clickbait     0.000000        0.0  "
     },
     "execution_count": 8,
     "metadata": {},
     "output_type": "execute_result"
    }
   ],
   "source": [
    "#truth\n",
    "truthDf = pandas.read_json(r\"data\\truth.jsonl\", lines=True)\n",
    "truthDf = truthDf.sort_values(by=[\"id\"], ascending = True).reset_index().drop(columns=[\"index\"])\n",
    "truthDf.head()"
   ]
  },
  {
   "cell_type": "code",
   "execution_count": 9,
   "metadata": {},
   "outputs": [
    {
     "data": {
      "text/html": "<div>\n<style scoped>\n    .dataframe tbody tr th:only-of-type {\n        vertical-align: middle;\n    }\n\n    .dataframe tbody tr th {\n        vertical-align: top;\n    }\n\n    .dataframe thead th {\n        text-align: right;\n    }\n</style>\n<table border=\"1\" class=\"dataframe\">\n  <thead>\n    <tr style=\"text-align: right;\">\n      <th></th>\n      <th>postMedia</th>\n      <th>postText</th>\n      <th>id</th>\n      <th>targetCaptions</th>\n      <th>targetParagraphs</th>\n      <th>targetTitle</th>\n      <th>postTimestamp</th>\n      <th>targetKeywords</th>\n      <th>targetDescription</th>\n    </tr>\n  </thead>\n  <tbody>\n    <tr>\n      <th>0</th>\n      <td>[]</td>\n      <td>[Panama Papers: Europol links 3,500 names to s...</td>\n      <td>804113781580328960</td>\n      <td>[Europol]</td>\n      <td>[Law enforcement agency analysis uncovers prob...</td>\n      <td>Panama Papers: Europol links 3,500 names to su...</td>\n      <td>Thu Dec 01 00:03:59 +0000 2016</td>\n      <td>European Union,Panama Papers,Organised crime,W...</td>\n      <td>Law enforcement agency analysis uncovers proba...</td>\n    </tr>\n    <tr>\n      <th>1</th>\n      <td>[media/photo_804119509338640385.jpg]</td>\n      <td>[The key to truly great chicken soup]</td>\n      <td>804119512010424320</td>\n      <td>[Chicken Noodle Soup Warm and comforting, this...</td>\n      <td>[Warm and comforting, this soup is a classic t...</td>\n      <td>A Superior Chicken Soup</td>\n      <td>Thu Dec 01 00:26:46 +0000 2016</td>\n      <td>Cooking and Cookbooks,Soups,Poultry</td>\n      <td>For the best rendition of this American classi...</td>\n    </tr>\n    <tr>\n      <th>2</th>\n      <td>[]</td>\n      <td>[Afghan policewomen face down their fears to s...</td>\n      <td>804121272967983104</td>\n      <td>[The battle to recruit women to the Afghan Pol...</td>\n      <td>[Afghanistan is one of the most dangerous plac...</td>\n      <td>100 Women 2016: On the frontline with the wome...</td>\n      <td>Thu Dec 01 00:33:45 +0000 2016</td>\n      <td></td>\n      <td>The Afghan women risking all to join the police.</td>\n    </tr>\n    <tr>\n      <th>3</th>\n      <td>[]</td>\n      <td>[Conservatives are watching less football this...</td>\n      <td>804123103995580416</td>\n      <td>[BuzzFeed Hires Mondelez Marketing Executive, ...</td>\n      <td>[Explanations for this year’s sagging National...</td>\n      <td>Older Viewers and Conservatives Are Watching L...</td>\n      <td>Thu Dec 01 00:41:02 +0000 2016</td>\n      <td>nfl,ratings,american football,political,genera...</td>\n      <td>Many factors are dragging down NFL ratings, in...</td>\n    </tr>\n    <tr>\n      <th>4</th>\n      <td>[media/photo_804125377400553474.jpg]</td>\n      <td>[Richard Sherman weighs in on Cam Newton’s str...</td>\n      <td>804126501117435904</td>\n      <td>[Richard Sherman Says 'Karma' Caught Up to Cam...</td>\n      <td>[Seattle Seahawks cornerback Richard Sherman m...</td>\n      <td>Seattle Seahawks Richard Sherman Says 'Karma' ...</td>\n      <td>Thu Dec 01 00:54:32 +0000 2016</td>\n      <td>Football, NFL, NFC West, Seattle Seahawks, Bre...</td>\n      <td>Seattle Seahawks news, rumors, scores, schedul...</td>\n    </tr>\n  </tbody>\n</table>\n</div>",
      "text/plain": "                              postMedia  \\\n0                                    []   \n1  [media/photo_804119509338640385.jpg]   \n2                                    []   \n3                                    []   \n4  [media/photo_804125377400553474.jpg]   \n\n                                            postText                  id  \\\n0  [Panama Papers: Europol links 3,500 names to s...  804113781580328960   \n1              [The key to truly great chicken soup]  804119512010424320   \n2  [Afghan policewomen face down their fears to s...  804121272967983104   \n3  [Conservatives are watching less football this...  804123103995580416   \n4  [Richard Sherman weighs in on Cam Newton’s str...  804126501117435904   \n\n                                      targetCaptions  \\\n0                                          [Europol]   \n1  [Chicken Noodle Soup Warm and comforting, this...   \n2  [The battle to recruit women to the Afghan Pol...   \n3  [BuzzFeed Hires Mondelez Marketing Executive, ...   \n4  [Richard Sherman Says 'Karma' Caught Up to Cam...   \n\n                                    targetParagraphs  \\\n0  [Law enforcement agency analysis uncovers prob...   \n1  [Warm and comforting, this soup is a classic t...   \n2  [Afghanistan is one of the most dangerous plac...   \n3  [Explanations for this year’s sagging National...   \n4  [Seattle Seahawks cornerback Richard Sherman m...   \n\n                                         targetTitle  \\\n0  Panama Papers: Europol links 3,500 names to su...   \n1                           A Superior Chicken Soup    \n2  100 Women 2016: On the frontline with the wome...   \n3  Older Viewers and Conservatives Are Watching L...   \n4  Seattle Seahawks Richard Sherman Says 'Karma' ...   \n\n                    postTimestamp  \\\n0  Thu Dec 01 00:03:59 +0000 2016   \n1  Thu Dec 01 00:26:46 +0000 2016   \n2  Thu Dec 01 00:33:45 +0000 2016   \n3  Thu Dec 01 00:41:02 +0000 2016   \n4  Thu Dec 01 00:54:32 +0000 2016   \n\n                                      targetKeywords  \\\n0  European Union,Panama Papers,Organised crime,W...   \n1                Cooking and Cookbooks,Soups,Poultry   \n2                                                      \n3  nfl,ratings,american football,political,genera...   \n4  Football, NFL, NFC West, Seattle Seahawks, Bre...   \n\n                                   targetDescription  \n0  Law enforcement agency analysis uncovers proba...  \n1  For the best rendition of this American classi...  \n2   The Afghan women risking all to join the police.  \n3  Many factors are dragging down NFL ratings, in...  \n4  Seattle Seahawks news, rumors, scores, schedul...  "
     },
     "execution_count": 9,
     "metadata": {},
     "output_type": "execute_result"
    }
   ],
   "source": [
    "#instances\n",
    "instancesDf = pandas.read_json(r\"data\\instances.jsonl\", lines=True)\n",
    "instancesDf = instancesDf.sort_values(by=[\"id\"], ascending = True).reset_index().drop(columns=[\"index\"])\n",
    "instancesDf.head()"
   ]
  },
  {
   "cell_type": "code",
   "execution_count": 10,
   "metadata": {},
   "outputs": [
    {
     "data": {
      "text/html": "<div>\n<style scoped>\n    .dataframe tbody tr th:only-of-type {\n        vertical-align: middle;\n    }\n\n    .dataframe tbody tr th {\n        vertical-align: top;\n    }\n\n    .dataframe thead th {\n        text-align: right;\n    }\n</style>\n<table border=\"1\" class=\"dataframe\">\n  <thead>\n    <tr style=\"text-align: right;\">\n      <th></th>\n      <th>postMedia</th>\n      <th>postText</th>\n      <th>id</th>\n      <th>targetCaptions</th>\n      <th>targetParagraphs</th>\n      <th>targetTitle</th>\n      <th>postTimestamp</th>\n      <th>targetKeywords</th>\n      <th>targetDescription</th>\n      <th>ptWordTokens</th>\n      <th>tdWordTokens</th>\n      <th>ttWordTokens</th>\n      <th>tcWordTokens</th>\n      <th>tpWordTokens</th>\n    </tr>\n  </thead>\n  <tbody>\n    <tr>\n      <th>0</th>\n      <td>[]</td>\n      <td>[Panama Papers: Europol links 3,500 names to s...</td>\n      <td>804113781580328960</td>\n      <td>[Europol]</td>\n      <td>[Law enforcement agency analysis uncovers prob...</td>\n      <td>Panama Papers: Europol links 3,500 names to su...</td>\n      <td>Thu Dec 01 00:03:59 +0000 2016</td>\n      <td>European Union,Panama Papers,Organised crime,W...</td>\n      <td>Law enforcement agency analysis uncovers proba...</td>\n      <td>[Panama, Papers, Europol, links, 3500, names, ...</td>\n      <td>[Law, enforcement, agency, analysis, uncovers,...</td>\n      <td>[Panama, Papers, Europol, links, 3500, names, ...</td>\n      <td>[Europol]</td>\n      <td>[Law, enforcement, agency, analysis, uncovers,...</td>\n    </tr>\n    <tr>\n      <th>1</th>\n      <td>[media/photo_804119509338640385.jpg]</td>\n      <td>[The key to truly great chicken soup]</td>\n      <td>804119512010424320</td>\n      <td>[Chicken Noodle Soup Warm and comforting, this...</td>\n      <td>[Warm and comforting, this soup is a classic t...</td>\n      <td>A Superior Chicken Soup</td>\n      <td>Thu Dec 01 00:26:46 +0000 2016</td>\n      <td>Cooking and Cookbooks,Soups,Poultry</td>\n      <td>For the best rendition of this American classi...</td>\n      <td>[The, key, to, truly, great, chicken, soup]</td>\n      <td>[For, the, best, rendition, of, this, American...</td>\n      <td>[A, Superior, Chicken, Soup]</td>\n      <td>[Chicken, Noodle, Soup, Warm, and, comforting,...</td>\n      <td>[Warm, and, comforting, this, soup, is, a, cla...</td>\n    </tr>\n    <tr>\n      <th>2</th>\n      <td>[]</td>\n      <td>[Afghan policewomen face down their fears to s...</td>\n      <td>804121272967983104</td>\n      <td>[The battle to recruit women to the Afghan Pol...</td>\n      <td>[Afghanistan is one of the most dangerous plac...</td>\n      <td>100 Women 2016: On the frontline with the wome...</td>\n      <td>Thu Dec 01 00:33:45 +0000 2016</td>\n      <td></td>\n      <td>The Afghan women risking all to join the police.</td>\n      <td>[Afghan, policewomen, face, down, their, fears...</td>\n      <td>[The, Afghan, women, risking, all, to, join, t...</td>\n      <td>[100, Women, 2016, On, the, frontline, with, t...</td>\n      <td>[The, battle, to, recruit, women, to, the, Afg...</td>\n      <td>[Afghanistan, is, one, of, the, most, dangerou...</td>\n    </tr>\n    <tr>\n      <th>3</th>\n      <td>[]</td>\n      <td>[Conservatives are watching less football this...</td>\n      <td>804123103995580416</td>\n      <td>[BuzzFeed Hires Mondelez Marketing Executive, ...</td>\n      <td>[Explanations for this year’s sagging National...</td>\n      <td>Older Viewers and Conservatives Are Watching L...</td>\n      <td>Thu Dec 01 00:41:02 +0000 2016</td>\n      <td>nfl,ratings,american football,political,genera...</td>\n      <td>Many factors are dragging down NFL ratings, in...</td>\n      <td>[Conservatives, are, watching, less, football,...</td>\n      <td>[Many, factors, are, dragging, down, NFL, rati...</td>\n      <td>[Older, Viewers, and, Conservatives, Are, Watc...</td>\n      <td>[BuzzFeed, Hires, Mondelez, Marketing, Executi...</td>\n      <td>[Explanations, for, this, year’s, sagging, Nat...</td>\n    </tr>\n    <tr>\n      <th>4</th>\n      <td>[media/photo_804125377400553474.jpg]</td>\n      <td>[Richard Sherman weighs in on Cam Newton’s str...</td>\n      <td>804126501117435904</td>\n      <td>[Richard Sherman Says 'Karma' Caught Up to Cam...</td>\n      <td>[Seattle Seahawks cornerback Richard Sherman m...</td>\n      <td>Seattle Seahawks Richard Sherman Says 'Karma' ...</td>\n      <td>Thu Dec 01 00:54:32 +0000 2016</td>\n      <td>Football, NFL, NFC West, Seattle Seahawks, Bre...</td>\n      <td>Seattle Seahawks news, rumors, scores, schedul...</td>\n      <td>[Richard, Sherman, weighs, in, on, Cam, Newton...</td>\n      <td>[Seattle, Seahawks, news, rumors, scores, sche...</td>\n      <td>[Seattle, Seahawks, Richard, Sherman, Says, 'K...</td>\n      <td>[Richard, Sherman, Says, 'Karma', Caught, Up, ...</td>\n      <td>[Seattle, Seahawks, cornerback, Richard, Sherm...</td>\n    </tr>\n  </tbody>\n</table>\n</div>",
      "text/plain": "                              postMedia  \\\n0                                    []   \n1  [media/photo_804119509338640385.jpg]   \n2                                    []   \n3                                    []   \n4  [media/photo_804125377400553474.jpg]   \n\n                                            postText                  id  \\\n0  [Panama Papers: Europol links 3,500 names to s...  804113781580328960   \n1              [The key to truly great chicken soup]  804119512010424320   \n2  [Afghan policewomen face down their fears to s...  804121272967983104   \n3  [Conservatives are watching less football this...  804123103995580416   \n4  [Richard Sherman weighs in on Cam Newton’s str...  804126501117435904   \n\n                                      targetCaptions  \\\n0                                          [Europol]   \n1  [Chicken Noodle Soup Warm and comforting, this...   \n2  [The battle to recruit women to the Afghan Pol...   \n3  [BuzzFeed Hires Mondelez Marketing Executive, ...   \n4  [Richard Sherman Says 'Karma' Caught Up to Cam...   \n\n                                    targetParagraphs  \\\n0  [Law enforcement agency analysis uncovers prob...   \n1  [Warm and comforting, this soup is a classic t...   \n2  [Afghanistan is one of the most dangerous plac...   \n3  [Explanations for this year’s sagging National...   \n4  [Seattle Seahawks cornerback Richard Sherman m...   \n\n                                         targetTitle  \\\n0  Panama Papers: Europol links 3,500 names to su...   \n1                           A Superior Chicken Soup    \n2  100 Women 2016: On the frontline with the wome...   \n3  Older Viewers and Conservatives Are Watching L...   \n4  Seattle Seahawks Richard Sherman Says 'Karma' ...   \n\n                    postTimestamp  \\\n0  Thu Dec 01 00:03:59 +0000 2016   \n1  Thu Dec 01 00:26:46 +0000 2016   \n2  Thu Dec 01 00:33:45 +0000 2016   \n3  Thu Dec 01 00:41:02 +0000 2016   \n4  Thu Dec 01 00:54:32 +0000 2016   \n\n                                      targetKeywords  \\\n0  European Union,Panama Papers,Organised crime,W...   \n1                Cooking and Cookbooks,Soups,Poultry   \n2                                                      \n3  nfl,ratings,american football,political,genera...   \n4  Football, NFL, NFC West, Seattle Seahawks, Bre...   \n\n                                   targetDescription  \\\n0  Law enforcement agency analysis uncovers proba...   \n1  For the best rendition of this American classi...   \n2   The Afghan women risking all to join the police.   \n3  Many factors are dragging down NFL ratings, in...   \n4  Seattle Seahawks news, rumors, scores, schedul...   \n\n                                        ptWordTokens  \\\n0  [Panama, Papers, Europol, links, 3500, names, ...   \n1        [The, key, to, truly, great, chicken, soup]   \n2  [Afghan, policewomen, face, down, their, fears...   \n3  [Conservatives, are, watching, less, football,...   \n4  [Richard, Sherman, weighs, in, on, Cam, Newton...   \n\n                                        tdWordTokens  \\\n0  [Law, enforcement, agency, analysis, uncovers,...   \n1  [For, the, best, rendition, of, this, American...   \n2  [The, Afghan, women, risking, all, to, join, t...   \n3  [Many, factors, are, dragging, down, NFL, rati...   \n4  [Seattle, Seahawks, news, rumors, scores, sche...   \n\n                                        ttWordTokens  \\\n0  [Panama, Papers, Europol, links, 3500, names, ...   \n1                       [A, Superior, Chicken, Soup]   \n2  [100, Women, 2016, On, the, frontline, with, t...   \n3  [Older, Viewers, and, Conservatives, Are, Watc...   \n4  [Seattle, Seahawks, Richard, Sherman, Says, 'K...   \n\n                                        tcWordTokens  \\\n0                                          [Europol]   \n1  [Chicken, Noodle, Soup, Warm, and, comforting,...   \n2  [The, battle, to, recruit, women, to, the, Afg...   \n3  [BuzzFeed, Hires, Mondelez, Marketing, Executi...   \n4  [Richard, Sherman, Says, 'Karma', Caught, Up, ...   \n\n                                        tpWordTokens  \n0  [Law, enforcement, agency, analysis, uncovers,...  \n1  [Warm, and, comforting, this, soup, is, a, cla...  \n2  [Afghanistan, is, one, of, the, most, dangerou...  \n3  [Explanations, for, this, year’s, sagging, Nat...  \n4  [Seattle, Seahawks, cornerback, Richard, Sherm...  "
     },
     "execution_count": 10,
     "metadata": {},
     "output_type": "execute_result"
    }
   ],
   "source": [
    "#tokenize words. Remove punctuation. We didn't remove stop words because the models we'll use will take care of them for us\n",
    "def createWordsTokens(row):\n",
    "    if isinstance(row, list):\n",
    "        row = \" \".join(row)\n",
    "    punctuation = '!\"#$%&()*+,-./:;<=>?@[\\\\]^_`{|}~'\n",
    "    row = ''.join([c for c in row if c not in punctuation])\n",
    "    wordTokens = row.split()\n",
    "    return wordTokens\n",
    "\n",
    "instancesDf[\"ptWordTokens\"] = instancesDf[\"postText\"].apply(lambda row : createWordsTokens(row))\n",
    "instancesDf[\"tdWordTokens\"] = instancesDf[\"targetDescription\"].apply(lambda row : createWordsTokens(row))\n",
    "instancesDf[\"ttWordTokens\"] = instancesDf[\"targetTitle\"].apply(lambda row : createWordsTokens(row))\n",
    "instancesDf[\"tcWordTokens\"] = instancesDf[\"targetCaptions\"].apply(lambda row : createWordsTokens(row))\n",
    "instancesDf[\"tpWordTokens\"] = instancesDf[\"targetParagraphs\"].apply(lambda row : createWordsTokens(row))\n",
    "instancesDf.head()"
   ]
  },
  {
   "cell_type": "markdown",
   "execution_count": null,
   "metadata": {},
   "outputs": [],
   "source": [
    "# Split\n",
    "This will be used later. We need the train ids and the test ids"
   ]
  },
  {
   "cell_type": "code",
   "execution_count": 11,
   "metadata": {},
   "outputs": [
    {
     "data": {
      "text/plain": "[804113781580328960,\n 804119512010424320,\n 804121272967983104,\n 804123103995580416,\n 804126501117435904,\n 804126768105930752,\n 804129660661596160,\n 804130694117003264,\n 804131001710546944]"
     },
     "execution_count": 11,
     "metadata": {},
     "output_type": "execute_result"
    }
   ],
   "source": [
    "#get list of ids\n",
    "totalIds = instancesDf[\"id\"].to_list()\n",
    "totalIds[0:9]"
   ]
  },
  {
   "cell_type": "code",
   "execution_count": 17,
   "metadata": {},
   "outputs": [
    {
     "name": "stdout",
     "output_type": "stream",
     "text": "train: 13676(70.0%)     test: 5862(30.0%)\n"
    }
   ],
   "source": [
    "#create train ids and test ids. We need thsi cause we have multiple inputs and the ids have to match\n",
    "totalLen = len(totalIds)\n",
    "trainIndexes = sample(totalIds, int(totalLen*0.7))\n",
    "testIndexes = [item for item in totalIds if item not in trainIndexes]\n",
    "print(\"train: \" + str(len(trainIndexes)) + \"(\" + str(round(len(trainIndexes)/totalLen*100,0)) + \"%)\" +\n",
    "\"     test: \" + str(len(testIndexes)) + \"(\" + str(round(len(testIndexes)/totalLen*100, 0)) + \"%)\")"
   ]
  },
  {
   "cell_type": "code",
   "execution_count": 89,
   "metadata": {},
   "outputs": [],
   "source": [
    "pickle.dump(trainIndexes, open(\"binaries/trainIndexes.pkl\", 'wb'))\n",
    "pickle.dump(testIndexes, open(\"binaries/testIndexes.pkl\", 'wb'))"
   ]
  },
  {
   "cell_type": "markdown",
   "execution_count": null,
   "metadata": {},
   "outputs": [],
   "source": [
    "# WORD2VEC"
   ]
  },
  {
   "cell_type": "code",
   "execution_count": 36,
   "metadata": {},
   "outputs": [
    {
     "data": {
      "text/plain": "array([-0.05102539,  0.12060547, -0.01257324,  0.03088379, -0.08544922,\n        0.0534668 , -0.13964844, -0.16308594,  0.08300781,  0.20507812,\n       -0.09423828,  0.15527344, -0.00418091,  0.02111816, -0.10986328,\n        0.22460938,  0.22265625,  0.15917969,  0.05786133, -0.15527344,\n        0.23046875,  0.34765625,  0.44335938, -0.14550781,  0.15136719,\n        0.02209473, -0.16308594,  0.2578125 ,  0.20019531,  0.06054688,\n       -0.0222168 , -0.13183594, -0.06396484, -0.12792969,  0.09814453,\n       -0.13574219,  0.01928711,  0.25195312,  0.14257812,  0.2421875 ,\n        0.03173828, -0.17089844,  0.26171875,  0.4296875 ,  0.24804688,\n       -0.10351562, -0.13867188, -0.14257812, -0.20703125, -0.00860596,\n       -0.43359375, -0.01757812,  0.40234375,  0.32617188,  0.33203125,\n        0.01000977, -0.11523438, -0.12695312,  0.01940918, -0.25390625,\n        0.00393677, -0.00344849, -0.19042969,  0.05419922,  0.14453125,\n       -0.0546875 , -0.11132812,  0.15136719, -0.265625  ,  0.20019531,\n        0.14941406,  0.16601562,  0.06835938,  0.00616455, -0.35742188,\n        0.14746094,  0.05761719,  0.00152588,  0.12890625,  0.44921875,\n        0.10302734,  0.06225586, -0.17382812, -0.34570312, -0.10644531,\n       -0.07324219, -0.05566406,  0.10351562,  0.38867188,  0.2109375 ,\n       -0.09228516, -0.02709961, -0.03320312, -0.02575684, -0.53125   ,\n        0.12988281,  0.2578125 ,  0.06494141, -0.04394531, -0.17089844,\n       -0.31445312, -0.09619141, -0.109375  ,  0.21191406,  0.13183594,\n        0.14550781,  0.05151367,  0.01275635,  0.07519531,  0.04345703,\n       -0.00854492,  0.22070312,  0.00055695, -0.23339844,  0.23632812,\n       -0.05932617,  0.17578125,  0.26953125,  0.06640625, -0.04785156,\n        0.38671875, -0.00411987, -0.453125  ,  0.06689453, -0.09326172,\n        0.03637695, -0.11474609,  0.18066406,  0.23632812, -0.11572266,\n       -0.3203125 , -0.12695312, -0.11474609,  0.10986328,  0.00592041,\n       -0.234375  , -0.04931641,  0.15429688,  0.09521484,  0.05395508,\n        0.26171875,  0.14160156, -0.21386719,  0.00747681,  0.12792969,\n        0.08886719,  0.09570312, -0.3203125 ,  0.22949219, -0.296875  ,\n        0.02844238,  0.01989746,  0.31054688, -0.17382812,  0.05981445,\n       -0.1875    , -0.17871094,  0.18164062, -0.12792969, -0.23925781,\n       -0.375     ,  0.19042969,  0.234375  ,  0.03173828,  0.14160156,\n       -0.21875   , -0.12695312, -0.03613281, -0.19042969,  0.01660156,\n        0.33203125, -0.06445312,  0.16210938, -0.16210938, -0.20019531,\n        0.37890625,  0.04589844, -0.09423828, -0.12597656, -0.09765625,\n       -0.04248047, -0.1640625 ,  0.0534668 ,  0.26171875,  0.14160156,\n       -0.2109375 , -0.1484375 ,  0.2578125 , -0.10986328, -0.11279297,\n       -0.05297852,  0.12695312,  0.3359375 ,  0.12890625,  0.24609375,\n        0.09472656, -0.0703125 , -0.13183594, -0.05273438, -0.06591797,\n        0.07324219, -0.02380371, -0.00460815,  0.22363281, -0.03662109,\n        0.03173828, -0.23632812,  0.296875  , -0.09667969,  0.19042969,\n        0.09082031,  0.13183594, -0.07226562, -0.28515625,  0.12158203,\n        0.01287842,  0.21289062, -0.13476562, -0.08496094, -0.37695312,\n       -0.01483154,  0.30859375, -0.09326172, -0.26367188,  0.03369141,\n       -0.02880859, -0.09082031, -0.125     , -0.50390625, -0.1640625 ,\n       -0.12890625, -0.19726562, -0.36523438, -0.04370117, -0.07519531,\n        0.11035156,  0.03149414,  0.09521484,  0.09033203,  0.11132812,\n        0.09667969,  0.07275391, -0.04125977,  0.07519531,  0.03613281,\n        0.05932617,  0.16894531,  0.15039062,  0.06542969, -0.04956055,\n       -0.05932617,  0.08935547,  0.08154297,  0.18945312,  0.00390625,\n       -0.08154297, -0.11669922, -0.09326172, -0.32617188, -0.16699219,\n       -0.0559082 ,  0.13476562,  0.1328125 ,  0.0625    ,  0.07080078,\n        0.13378906, -0.16210938,  0.15917969,  0.09082031, -0.06542969,\n       -0.08984375,  0.25390625,  0.19921875, -0.14160156,  0.36914062,\n        0.14453125, -0.09130859, -0.03564453, -0.01281738, -0.046875  ,\n       -0.17773438, -0.00149536, -0.13085938,  0.14355469,  0.3671875 ,\n       -0.17773438, -0.22558594, -0.10986328,  0.04248047,  0.16601562,\n        0.00964355, -0.06835938, -0.11669922, -0.15136719,  0.36132812,\n       -0.22851562, -0.01672363, -0.26367188, -0.10742188,  0.0222168 ],\n      dtype=float32)"
     },
     "execution_count": 36,
     "metadata": {},
     "output_type": "execute_result"
    }
   ],
   "source": [
    "#get embeddings of words from pre-trained model\n",
    "word_vectors = KeyedVectors.load_word2vec_format(r\"binaries\\GoogleNews-vectors-negative300.bin\", binary=True)\n",
    "word_vectors[\"Hello\"]"
   ]
  },
  {
   "cell_type": "code",
   "execution_count": 41,
   "metadata": {},
   "outputs": [
    {
     "data": {
      "text/html": "<div>\n<style scoped>\n    .dataframe tbody tr th:only-of-type {\n        vertical-align: middle;\n    }\n\n    .dataframe tbody tr th {\n        vertical-align: top;\n    }\n\n    .dataframe thead th {\n        text-align: right;\n    }\n</style>\n<table border=\"1\" class=\"dataframe\">\n  <thead>\n    <tr style=\"text-align: right;\">\n      <th></th>\n      <th>postText</th>\n      <th>ptWordTokens</th>\n      <th>wEmbedding</th>\n    </tr>\n  </thead>\n  <tbody>\n    <tr>\n      <th>0</th>\n      <td>[Panama Papers: Europol links 3,500 names to s...</td>\n      <td>[Panama, Papers, Europol, links, 3500, names, ...</td>\n      <td>[[-0.021118164, -0.06542969, -0.18164062, 0.03...</td>\n    </tr>\n    <tr>\n      <th>1</th>\n      <td>[The key to truly great chicken soup]</td>\n      <td>[The, key, to, truly, great, chicken, soup]</td>\n      <td>[[-0.17285156, 0.27929688, 0.106933594, -0.158...</td>\n    </tr>\n    <tr>\n      <th>2</th>\n      <td>[Afghan policewomen face down their fears to s...</td>\n      <td>[Afghan, policewomen, face, down, their, fears...</td>\n      <td>[[-0.2421875, -0.016479492, 0.18847656, 0.1962...</td>\n    </tr>\n    <tr>\n      <th>3</th>\n      <td>[Conservatives are watching less football this...</td>\n      <td>[Conservatives, are, watching, less, football,...</td>\n      <td>[[0.029052734, -0.12597656, 0.15429688, 0.375,...</td>\n    </tr>\n    <tr>\n      <th>4</th>\n      <td>[Richard Sherman weighs in on Cam Newton’s str...</td>\n      <td>[Richard, Sherman, weighs, in, on, Cam, Newton...</td>\n      <td>[[0.14648438, 0.0014343262, -0.14453125, -0.00...</td>\n    </tr>\n  </tbody>\n</table>\n</div>",
      "text/plain": "                                            postText  \\\n0  [Panama Papers: Europol links 3,500 names to s...   \n1              [The key to truly great chicken soup]   \n2  [Afghan policewomen face down their fears to s...   \n3  [Conservatives are watching less football this...   \n4  [Richard Sherman weighs in on Cam Newton’s str...   \n\n                                        ptWordTokens  \\\n0  [Panama, Papers, Europol, links, 3500, names, ...   \n1        [The, key, to, truly, great, chicken, soup]   \n2  [Afghan, policewomen, face, down, their, fears...   \n3  [Conservatives, are, watching, less, football,...   \n4  [Richard, Sherman, weighs, in, on, Cam, Newton...   \n\n                                          wEmbedding  \n0  [[-0.021118164, -0.06542969, -0.18164062, 0.03...  \n1  [[-0.17285156, 0.27929688, 0.106933594, -0.158...  \n2  [[-0.2421875, -0.016479492, 0.18847656, 0.1962...  \n3  [[0.029052734, -0.12597656, 0.15429688, 0.375,...  \n4  [[0.14648438, 0.0014343262, -0.14453125, -0.00...  "
     },
     "execution_count": 41,
     "metadata": {},
     "output_type": "execute_result"
    }
   ],
   "source": [
    "#generate embeddings for each words of each post. Maximum 20 words\n",
    "def getWordVecs(row):\n",
    "    newList=[]\n",
    "    for word in row:\n",
    "        try:\n",
    "            newList.append(word_vectors[word])\n",
    "        except:\n",
    "            None # Word not in embedding dictionary\n",
    "        if len(newList)>=20: #we only need 20 words\n",
    "            return newList\n",
    "    \n",
    "    #if it didn't return till here, it doesnt have 20 elements yet. Fill with zeros\n",
    "    for i in range(len(newList), 20):\n",
    "        newList.append(numpy.zeros(300))\n",
    "    return newList\n",
    "\n",
    "instancesDf[\"wEmbedding\"] = instancesDf[\"ptWordTokens\"].apply(lambda row : getWordVecs(row))\n",
    "instancesDf[[\"postText\", \"ptWordTokens\", \"wEmbedding\"]].head()"
   ]
  },
  {
   "cell_type": "code",
   "execution_count": 42,
   "metadata": {},
   "outputs": [
    {
     "name": "stdout",
     "output_type": "stream",
     "text": "Shape: 20,(300,)\n"
    },
    {
     "data": {
      "text/plain": "5469e-02,\n         -1.81640625e-01,  4.68750000e-02, -2.96875000e-01, -1.44531250e-01,\n          2.89062500e-01, -3.14941406e-02,  1.12304688e-01, -2.61230469e-02,\n          1.38854980e-03,  1.56250000e-01, -2.69531250e-01,  1.26953125e-01,\n          1.63085938e-01,  7.17773438e-02, -2.67578125e-01,  1.06933594e-01,\n         -2.69775391e-02, -9.61914062e-02, -1.61132812e-02,  2.16796875e-01,\n          1.00097656e-01, -3.20312500e-01, -7.91015625e-02, -6.89697266e-03,\n         -7.37304688e-02, -3.49121094e-02,  6.39648438e-02, -1.32446289e-02,\n         -9.32617188e-02,  4.66308594e-02, -3.57421875e-01, -5.15747070e-03,\n          1.10351562e-01, -1.29882812e-01, -1.63085938e-01,  2.69775391e-02,\n         -1.10839844e-01,  2.37304688e-01,  2.05078125e-01,  9.91210938e-02,\n          1.20605469e-01, -2.37304688e-01,  5.95092773e-03, -8.30078125e-02,\n         -1.35742188e-01, -1.98242188e-01, -4.93164062e-02,  2.39257812e-01,\n         -1.56250000e-01,  1.07910156e-01, -1.62109375e-01,  2.42187500e-01,\n         -1.91406250e-01, -1.12792969e-01, -1.21459961e-02, -6.29882812e-02,\n          2.31445312e-01,  1.20117188e-01,  9.17968750e-02, -4.90234375e-01,\n         -1.65039062e-01,  2.24609375e-02,  3.29589844e-02, -5.73730469e-02,\n         -3.54003906e-02, -6.49414062e-02, -7.86132812e-02, -2.46093750e-01,\n          1.96289062e-01, -6.44531250e-02,  7.95898438e-02, -2.80761719e-02,\n          4.29687500e-02,  1.38671875e-01, -1.35742188e-01,  1.90429688e-01,\n         -1.06201172e-02,  9.42382812e-02,  3.41796875e-02,  1.54296875e-01,\n          7.08007812e-02,  8.78906250e-02, -8.44726562e-02,  5.51757812e-02,\n          2.55126953e-02, -2.07519531e-02,  3.44238281e-02,  3.08227539e-03,\n         -7.56835938e-03,  8.64257812e-02, -1.17187500e-01,  1.73339844e-02,\n          6.01196289e-03, -7.27539062e-02, -1.04980469e-01, -1.35742188e-01,\n          6.20117188e-02,  1.19018555e-02,  1.12304688e-01, -5.49316406e-02,\n          7.91015625e-02, -1.30859375e-01, -4.05273438e-02,  9.76562500e-02,\n          1.26953125e-01, -1.76757812e-01, -5.32226562e-02, -8.10546875e-02,\n         -1.62109375e-01, -1.68945312e-01,  1.41601562e-01,  9.39941406e-03,\n         -1.81884766e-02, -1.09863281e-01,  3.41796875e-02, -1.85546875e-01],\n        dtype=float32),\n  array([0., 0., 0., 0., 0., 0., 0., 0., 0., 0., 0., 0., 0., 0., 0., 0., 0.,\n         0., 0., 0., 0., 0., 0., 0., 0., 0., 0., 0., 0., 0., 0., 0., 0., 0.,\n         0., 0., 0., 0., 0., 0., 0., 0., 0., 0., 0., 0., 0., 0., 0., 0., 0.,\n         0., 0., 0., 0., 0., 0., 0., 0., 0., 0., 0., 0., 0., 0., 0., 0., 0.,\n         0., 0., 0., 0., 0., 0., 0., 0., 0., 0., 0., 0., 0., 0., 0., 0., 0.,\n         0., 0., 0., 0., 0., 0., 0., 0., 0., 0., 0., 0., 0., 0., 0., 0., 0.,\n         0., 0., 0., 0., 0., 0., 0., 0., 0., 0., 0., 0., 0., 0., 0., 0., 0.,\n         0., 0., 0., 0., 0., 0., 0., 0., 0., 0., 0., 0., 0., 0., 0., 0., 0.,\n         0., 0., 0., 0., 0., 0., 0., 0., 0., 0., 0., 0., 0., 0., 0., 0., 0.,\n         0., 0., 0., 0., 0., 0., 0., 0., 0., 0., 0., 0., 0., 0., 0., 0., 0.,\n         0., 0., 0., 0., 0., 0., 0., 0., 0., 0., 0., 0., 0., 0., 0., 0., 0.,\n         0., 0., 0., 0., 0., 0., 0., 0., 0., 0., 0., 0., 0., 0., 0., 0., 0.,\n         0., 0., 0., 0., 0., 0., 0., 0., 0., 0., 0., 0., 0., 0., 0., 0., 0.,\n         0., 0., 0., 0., 0., 0., 0., 0., 0., 0., 0., 0., 0., 0., 0., 0., 0.,\n         0., 0., 0., 0., 0., 0., 0., 0., 0., 0., 0., 0., 0., 0., 0., 0., 0.,\n         0., 0., 0., 0., 0., 0., 0., 0., 0., 0., 0., 0., 0., 0., 0., 0., 0.,\n         0., 0., 0., 0., 0., 0., 0., 0., 0., 0., 0., 0., 0., 0., 0., 0., 0.,\n         0., 0., 0., 0., 0., 0., 0., 0., 0., 0., 0.]),\n  array([0., 0., 0., 0., 0., 0., 0., 0., 0., 0., 0., 0., 0., 0., 0., 0., 0.,\n         0., 0., 0., 0., 0., 0., 0., 0., 0., 0., 0., 0., 0., 0., 0., 0., 0.,\n         0., 0., 0., 0., 0., 0., 0., 0., 0., 0., 0., 0., 0., 0., 0., 0., 0.,\n         0., 0., 0., 0., 0., 0., 0., 0., 0., 0., 0., 0., 0., 0., 0., 0., 0.,\n         0., 0., 0., 0., 0., 0., 0., 0., 0., 0., 0., 0., 0., 0., 0., 0., 0.,\n         0., 0., 0., 0., 0., 0., 0., 0., 0., 0., 0., 0., 0., 0., 0., 0., 0.,\n         0., 0., 0., 0., 0., 0., 0., 0., 0., 0., 0., 0., 0., 0., 0., 0., 0.,\n         0., 0., 0., 0., 0., 0., 0., 0., 0., 0., 0., 0., 0., 0., 0., 0., 0.,\n         0., 0., 0., 0., 0., 0., 0., 0., 0., 0., 0., 0., 0., 0., 0., 0., 0.,\n         0., 0., 0., 0., 0., 0., 0., 0., 0., 0., 0., 0., 0., 0., 0., 0., 0.,\n         0., 0., 0., 0., 0., 0., 0., 0., 0., 0., 0., 0., 0., 0., 0., 0., 0.,\n         0., 0., 0., 0., 0., 0., 0., 0., 0., 0., 0., 0., 0., 0., 0., 0., 0.,\n         0., 0., 0., 0., 0., 0., 0., 0., 0., 0., 0., 0., 0., 0., 0., 0., 0.,\n         0., 0., 0., 0., 0., 0., 0., 0., 0., 0., 0., 0., 0., 0., 0., 0., 0.,\n         0., 0., 0., 0., 0., 0., 0., 0., 0., 0., 0., 0., 0., 0., 0., 0., 0.,\n         0., 0., 0., 0., 0., 0., 0., 0., 0., 0., 0., 0., 0., 0., 0., 0., 0.,\n         0., 0., 0., 0., 0., 0., 0., 0., 0., 0., 0., 0., 0., 0., 0., 0., 0.,\n         0., 0., 0., 0., 0., 0., 0., 0., 0., 0., 0.]),\n  array([0., 0., 0., 0., 0., 0., 0., 0., 0., 0., 0., 0., 0., 0., 0., 0., 0.,\n         0., 0., 0., 0., 0., 0., 0., 0., 0., 0., 0., 0., 0., 0., 0., 0., 0.,\n         0., 0., 0., 0., 0., 0., 0., 0., 0., 0., 0., 0., 0., 0., 0., 0., 0.,\n         0., 0., 0., 0., 0., 0., 0., 0., 0., 0., 0., 0., 0., 0., 0., 0., 0.,\n         0., 0., 0., 0., 0., 0., 0., 0., 0., 0., 0., 0., 0., 0., 0., 0., 0.,\n         0., 0., 0., 0., 0., 0., 0., 0., 0., 0., 0., 0., 0., 0., 0., 0., 0.,\n         0., 0., 0., 0., 0., 0., 0., 0., 0., 0., 0., 0., 0., 0., 0., 0., 0.,\n         0., 0., 0., 0., 0., 0., 0., 0., 0., 0., 0., 0., 0., 0., 0., 0., 0.,\n         0., 0., 0., 0., 0., 0., 0., 0., 0., 0., 0., 0., 0., 0., 0., 0., 0.,\n         0., 0., 0., 0., 0., 0., 0., 0., 0., 0., 0., 0., 0., 0., 0., 0., 0.,\n         0., 0., 0., 0., 0., 0., 0., 0., 0., 0., 0., 0., 0., 0., 0., 0., 0.,\n         0., 0., 0., 0., 0., 0., 0., 0., 0., 0., 0., 0., 0., 0., 0., 0., 0.,\n         0., 0., 0., 0., 0., 0., 0., 0., 0., 0., 0., 0., 0., 0., 0., 0., 0.,\n         0., 0., 0., 0., 0., 0., 0., 0., 0., 0., 0., 0., 0., 0., 0., 0., 0.,\n         0., 0., 0., 0., 0., 0., 0., 0., 0., 0., 0., 0., 0., 0., 0., 0., 0.,\n         0., 0., 0., 0., 0., 0., 0., 0., 0., 0., 0., 0., 0., 0., 0., 0., 0.,\n         0., 0., 0., 0., 0., 0., 0., 0., 0., 0., 0., 0., 0., 0., 0., 0., 0.,\n         0., 0., 0., 0., 0., 0., 0., 0., 0., 0., 0.]),\n  array([0., 0., 0., 0., 0., 0., 0., 0., 0., 0., 0., 0., 0., 0., 0., 0., 0.,\n         0., 0., 0., 0., 0., 0., 0., 0., 0., 0., 0., 0., 0., 0., 0., 0., 0.,\n         0., 0., 0., 0., 0., 0., 0., 0., 0., 0., 0., 0., 0., 0., 0., 0., 0.,\n         0., 0., 0., 0., 0., 0., 0., 0., 0., 0., 0., 0., 0., 0., 0., 0., 0.,\n         0., 0., 0., 0., 0., 0., 0., 0., 0., 0., 0., 0., 0., 0., 0., 0., 0.,\n         0., 0., 0., 0., 0., 0., 0., 0., 0., 0., 0., 0., 0., 0., 0., 0., 0.,\n         0., 0., 0., 0., 0., 0., 0., 0., 0., 0., 0., 0., 0., 0., 0., 0., 0.,\n         0., 0., 0., 0., 0., 0., 0., 0., 0., 0., 0., 0., 0., 0., 0., 0., 0.,\n         0., 0., 0., 0., 0., 0., 0., 0., 0., 0., 0., 0., 0., 0., 0., 0., 0.,\n         0., 0., 0., 0., 0., 0., 0., 0., 0., 0., 0., 0., 0., 0., 0., 0., 0.,\n         0., 0., 0., 0., 0., 0., 0., 0., 0., 0., 0., 0., 0., 0., 0., 0., 0.,\n         0., 0., 0., 0., 0., 0., 0., 0., 0., 0., 0., 0., 0., 0., 0., 0., 0.,\n         0., 0., 0., 0., 0., 0., 0., 0., 0., 0., 0., 0., 0., 0., 0., 0., 0.,\n         0., 0., 0., 0., 0., 0., 0., 0., 0., 0., 0., 0., 0., 0., 0., 0., 0.,\n         0., 0., 0., 0., 0., 0., 0., 0., 0., 0., 0., 0., 0., 0., 0., 0., 0.,\n         0., 0., 0., 0., 0., 0., 0., 0., 0., 0., 0., 0., 0., 0., 0., 0., 0.,\n         0., 0., 0., 0., 0., 0., 0., 0., 0., 0., 0., 0., 0., 0., 0., 0., 0.,\n         0., 0., 0., 0., 0., 0., 0., 0., 0., 0., 0.]),\n  array([0., 0., 0., 0., 0., 0., 0., 0., 0., 0., 0., 0., 0., 0., 0., 0., 0.,\n         0., 0., 0., 0., 0., 0., 0., 0., 0., 0., 0., 0., 0., 0., 0., 0., 0.,\n         0., 0., 0., 0., 0., 0., 0., 0., 0., 0., 0., 0., 0., 0., 0., 0., 0.,\n         0., 0., 0., 0., 0., 0., 0., 0., 0., 0., 0., 0., 0., 0., 0., 0., 0.,\n         0., 0., 0., 0., 0., 0., 0., 0., 0., 0., 0., 0., 0., 0., 0., 0., 0.,\n         0., 0., 0., 0., 0., 0., 0., 0., 0., 0., 0., 0., 0., 0., 0., 0., 0.,\n         0., 0., 0., 0., 0., 0., 0., 0., 0., 0., 0., 0., 0., 0., 0., 0., 0.,\n         0., 0., 0., 0., 0., 0., 0., 0., 0., 0., 0., 0., 0., 0., 0., 0., 0.,\n         0., 0., 0., 0., 0., 0., 0., 0., 0., 0., 0., 0., 0., 0., 0., 0., 0.,\n         0., 0., 0., 0., 0., 0., 0., 0., 0., 0., 0., 0., 0., 0., 0., 0., 0.,\n         0., 0., 0., 0., 0., 0., 0., 0., 0., 0., 0., 0., 0., 0., 0., 0., 0.,\n         0., 0., 0., 0., 0., 0., 0., 0., 0., 0., 0., 0., 0., 0., 0., 0., 0.,\n         0., 0., 0., 0., 0., 0., 0., 0., 0., 0., 0., 0., 0., 0., 0., 0., 0.,\n         0., 0., 0., 0., 0., 0., 0., 0., 0., 0., 0., 0., 0., 0., 0., 0., 0.,\n         0., 0., 0., 0., 0., 0., 0., 0., 0., 0., 0., 0., 0., 0., 0., 0., 0.,\n         0., 0., 0., 0., 0., 0., 0., 0., 0., 0., 0., 0., 0., 0., 0., 0., 0.,\n         0., 0., 0., 0., 0., 0., 0., 0., 0., 0., 0., 0., 0., 0., 0., 0., 0.,\n         0., 0., 0., 0., 0., 0., 0., 0., 0., 0., 0.]),\n  array([0., 0., 0., 0., 0., 0., 0., 0., 0., 0., 0., 0., 0., 0., 0., 0., 0.,\n         0., 0., 0., 0., 0., 0., 0., 0., 0., 0., 0., 0., 0., 0., 0., 0., 0.,\n         0., 0., 0., 0., 0., 0., 0., 0., 0., 0., 0., 0., 0., 0., 0., 0., 0.,\n         0., 0., 0., 0., 0., 0., 0., 0., 0., 0., 0., 0., 0., 0., 0., 0., 0.,\n         0., 0., 0., 0., 0., 0., 0., 0., 0., 0., 0., 0., 0., 0., 0., 0., 0.,\n         0., 0., 0., 0., 0., 0., 0., 0., 0., 0., 0., 0., 0., 0., 0., 0., 0.,\n         0., 0., 0., 0., 0., 0., 0., 0., 0., 0., 0., 0., 0., 0., 0., 0., 0.,\n         0., 0., 0., 0., 0., 0., 0., 0., 0., 0., 0., 0., 0., 0., 0., 0., 0.,\n         0., 0., 0., 0., 0., 0., 0., 0., 0., 0., 0., 0., 0., 0., 0., 0., 0.,\n         0., 0., 0., 0., 0., 0., 0., 0., 0., 0., 0., 0., 0., 0., 0., 0., 0.,\n         0., 0., 0., 0., 0., 0., 0., 0., 0., 0., 0., 0., 0., 0., 0., 0., 0.,\n         0., 0., 0., 0., 0., 0., 0., 0., 0., 0., 0., 0., 0., 0., 0., 0., 0.,\n         0., 0., 0., 0., 0., 0., 0., 0., 0., 0., 0., 0., 0., 0., 0., 0., 0.,\n         0., 0., 0., 0., 0., 0., 0., 0., 0., 0., 0., 0., 0., 0., 0., 0., 0.,\n         0., 0., 0., 0., 0., 0., 0., 0., 0., 0., 0., 0., 0., 0., 0., 0., 0.,\n         0., 0., 0., 0., 0., 0., 0., 0., 0., 0., 0., 0., 0., 0., 0., 0., 0.,\n         0., 0., 0., 0., 0., 0., 0., 0., 0., 0., 0., 0., 0., 0., 0., 0., 0.,\n         0., 0., 0., 0., 0., 0., 0., 0., 0., 0., 0.]),\n  array([0., 0., 0., 0., 0., 0., 0., 0., 0., 0., 0., 0., 0., 0., 0., 0., 0.,\n         0., 0., 0., 0., 0., 0., 0., 0., 0., 0., 0., 0., 0., 0., 0., 0., 0.,\n         0., 0., 0., 0., 0., 0., 0., 0., 0., 0., 0., 0., 0., 0., 0., 0., 0.,\n         0., 0., 0., 0., 0., 0., 0., 0., 0., 0., 0., 0., 0., 0., 0., 0., 0.,\n         0., 0., 0., 0., 0., 0., 0., 0., 0., 0., 0., 0., 0., 0., 0., 0., 0.,\n         0., 0., 0., 0., 0., 0., 0., 0., 0., 0., 0., 0., 0., 0., 0., 0., 0.,\n         0., 0., 0., 0., 0., 0., 0., 0., 0., 0., 0., 0., 0., 0., 0., 0., 0.,\n         0., 0., 0., 0., 0., 0., 0., 0., 0., 0., 0., 0., 0., 0., 0., 0., 0.,\n         0., 0., 0., 0., 0., 0., 0., 0., 0., 0., 0., 0., 0., 0., 0., 0., 0.,\n         0., 0., 0., 0., 0., 0., 0., 0., 0., 0., 0., 0., 0., 0., 0., 0., 0.,\n         0., 0., 0., 0., 0., 0., 0., 0., 0., 0., 0., 0., 0., 0., 0., 0., 0.,\n         0., 0., 0., 0., 0., 0., 0., 0., 0., 0., 0., 0., 0., 0., 0., 0., 0.,\n         0., 0., 0., 0., 0., 0., 0., 0., 0., 0., 0., 0., 0., 0., 0., 0., 0.,\n         0., 0., 0., 0., 0., 0., 0., 0., 0., 0., 0., 0., 0., 0., 0., 0., 0.,\n         0., 0., 0., 0., 0., 0., 0., 0., 0., 0., 0., 0., 0., 0., 0., 0., 0.,\n         0., 0., 0., 0., 0., 0., 0., 0., 0., 0., 0., 0., 0., 0., 0., 0., 0.,\n         0., 0., 0., 0., 0., 0., 0., 0., 0., 0., 0., 0., 0., 0., 0., 0., 0.,\n         0., 0., 0., 0., 0., 0., 0., 0., 0., 0., 0.]),\n  array([0., 0., 0., 0., 0., 0., 0., 0., 0., 0., 0., 0., 0., 0., 0., 0., 0.,\n         0., 0., 0., 0., 0., 0., 0., 0., 0., 0., 0., 0., 0., 0., 0., 0., 0.,\n         0., 0., 0., 0., 0., 0., 0., 0., 0., 0., 0., 0., 0., 0., 0., 0., 0.,\n         0., 0., 0., 0., 0., 0., 0., 0., 0., 0., 0., 0., 0., 0., 0., 0., 0.,\n         0., 0., 0., 0., 0., 0., 0., 0., 0., 0., 0., 0., 0., 0., 0., 0., 0.,\n         0., 0., 0., 0., 0., 0., 0., 0., 0., 0., 0., 0., 0., 0., 0., 0., 0.,\n         0., 0., 0., 0., 0., 0., 0., 0., 0., 0., 0., 0., 0., 0., 0., 0., 0.,\n         0., 0., 0., 0., 0., 0., 0., 0., 0., 0., 0., 0., 0., 0., 0., 0., 0.,\n         0., 0., 0., 0., 0., 0., 0., 0., 0., 0., 0., 0., 0., 0., 0., 0., 0.,\n         0., 0., 0., 0., 0., 0., 0., 0., 0., 0., 0., 0., 0., 0., 0., 0., 0.,\n         0., 0., 0., 0., 0., 0., 0., 0., 0., 0., 0., 0., 0., 0., 0., 0., 0.,\n         0., 0., 0., 0., 0., 0., 0., 0., 0., 0., 0., 0., 0., 0., 0., 0., 0.,\n         0., 0., 0., 0., 0., 0., 0., 0., 0., 0., 0., 0., 0., 0., 0., 0., 0.,\n         0., 0., 0., 0., 0., 0., 0., 0., 0., 0., 0., 0., 0., 0., 0., 0., 0.,\n         0., 0., 0., 0., 0., 0., 0., 0., 0., 0., 0., 0., 0., 0., 0., 0., 0.,\n         0., 0., 0., 0., 0., 0., 0., 0., 0., 0., 0., 0., 0., 0., 0., 0., 0.,\n         0., 0., 0., 0., 0., 0., 0., 0., 0., 0., 0., 0., 0., 0., 0., 0., 0.,\n         0., 0., 0., 0., 0., 0., 0., 0., 0., 0., 0.]),\n  array([0., 0., 0., 0., 0., 0., 0., 0., 0., 0., 0., 0., 0., 0., 0., 0., 0.,\n         0., 0., 0., 0., 0., 0., 0., 0., 0., 0., 0., 0., 0., 0., 0., 0., 0.,\n         0., 0., 0., 0., 0., 0., 0., 0., 0., 0., 0., 0., 0., 0., 0., 0., 0.,\n         0., 0., 0., 0., 0., 0., 0., 0., 0., 0., 0., 0., 0., 0., 0., 0., 0.,\n         0., 0., 0., 0., 0., 0., 0., 0., 0., 0., 0., 0., 0., 0., 0., 0., 0.,\n         0., 0., 0., 0., 0., 0., 0., 0., 0., 0., 0., 0., 0., 0., 0., 0., 0.,\n         0., 0., 0., 0., 0., 0., 0., 0., 0., 0., 0., 0., 0., 0., 0., 0., 0.,\n         0., 0., 0., 0., 0., 0., 0., 0., 0., 0., 0., 0., 0., 0., 0., 0., 0.,\n         0., 0., 0., 0., 0., 0., 0., 0., 0., 0., 0., 0., 0., 0., 0., 0., 0.,\n         0., 0., 0., 0., 0., 0., 0., 0., 0., 0., 0., 0., 0., 0., 0., 0., 0.,\n         0., 0., 0., 0., 0., 0., 0., 0., 0., 0., 0., 0., 0., 0., 0., 0., 0.,\n         0., 0., 0., 0., 0., 0., 0., 0., 0., 0., 0., 0., 0., 0., 0., 0., 0.,\n         0., 0., 0., 0., 0., 0., 0., 0., 0., 0., 0., 0., 0., 0., 0., 0., 0.,\n         0., 0., 0., 0., 0., 0., 0., 0., 0., 0., 0., 0., 0., 0., 0., 0., 0.,\n         0., 0., 0., 0., 0., 0., 0., 0., 0., 0., 0., 0., 0., 0., 0., 0., 0.,\n         0., 0., 0., 0., 0., 0., 0., 0., 0., 0., 0., 0., 0., 0., 0., 0., 0.,\n         0., 0., 0., 0., 0., 0., 0., 0., 0., 0., 0., 0., 0., 0., 0., 0., 0.,\n         0., 0., 0., 0., 0., 0., 0., 0., 0., 0., 0.]),\n  array([0., 0., 0., 0., 0., 0., 0., 0., 0., 0., 0., 0., 0., 0., 0., 0., 0.,\n         0., 0., 0., 0., 0., 0., 0., 0., 0., 0., 0., 0., 0., 0., 0., 0., 0.,\n         0., 0., 0., 0., 0., 0., 0., 0., 0., 0., 0., 0., 0., 0., 0., 0., 0.,\n         0., 0., 0., 0., 0., 0., 0., 0., 0., 0., 0., 0., 0., 0., 0., 0., 0.,\n         0., 0., 0., 0., 0., 0., 0., 0., 0., 0., 0., 0., 0., 0., 0., 0., 0.,\n         0., 0., 0., 0., 0., 0., 0., 0., 0., 0., 0., 0., 0., 0., 0., 0., 0.,\n         0., 0., 0., 0., 0., 0., 0., 0., 0., 0., 0., 0., 0., 0., 0., 0., 0.,\n         0., 0., 0., 0., 0., 0., 0., 0., 0., 0., 0., 0., 0., 0., 0., 0., 0.,\n         0., 0., 0., 0., 0., 0., 0., 0., 0., 0., 0., 0., 0., 0., 0., 0., 0.,\n         0., 0., 0., 0., 0., 0., 0., 0., 0., 0., 0., 0., 0., 0., 0., 0., 0.,\n         0., 0., 0., 0., 0., 0., 0., 0., 0., 0., 0., 0., 0., 0., 0., 0., 0.,\n         0., 0., 0., 0., 0., 0., 0., 0., 0., 0., 0., 0., 0., 0., 0., 0., 0.,\n         0., 0., 0., 0., 0., 0., 0., 0., 0., 0., 0., 0., 0., 0., 0., 0., 0.,\n         0., 0., 0., 0., 0., 0., 0., 0., 0., 0., 0., 0., 0., 0., 0., 0., 0.,\n         0., 0., 0., 0., 0., 0., 0., 0., 0., 0., 0., 0., 0., 0., 0., 0., 0.,\n         0., 0., 0., 0., 0., 0., 0., 0., 0., 0., 0., 0., 0., 0., 0., 0., 0.,\n         0., 0., 0., 0., 0., 0., 0., 0., 0., 0., 0., 0., 0., 0., 0., 0., 0.,\n         0., 0., 0., 0., 0., 0., 0., 0., 0., 0., 0.]),\n  array([0., 0., 0., 0., 0., 0., 0., 0., 0., 0., 0., 0., 0., 0., 0., 0., 0.,\n         0., 0., 0., 0., 0., 0., 0., 0., 0., 0., 0., 0., 0., 0., 0., 0., 0.,\n         0., 0., 0., 0., 0., 0., 0., 0., 0., 0., 0., 0., 0., 0., 0., 0., 0.,\n         0., 0., 0., 0., 0., 0., 0., 0., 0., 0., 0., 0., 0., 0., 0., 0., 0.,\n         0., 0., 0., 0., 0., 0., 0., 0., 0., 0., 0., 0., 0., 0., 0., 0., 0.,\n         0., 0., 0., 0., 0., 0., 0., 0., 0., 0., 0., 0., 0., 0., 0., 0., 0.,\n         0., 0., 0., 0., 0., 0., 0., 0., 0., 0., 0., 0., 0., 0., 0., 0., 0.,\n         0., 0., 0., 0., 0., 0., 0., 0., 0., 0., 0., 0., 0., 0., 0., 0., 0.,\n         0., 0., 0., 0., 0., 0., 0., 0., 0., 0., 0., 0., 0., 0., 0., 0., 0.,\n         0., 0., 0., 0., 0., 0., 0., 0., 0., 0., 0., 0., 0., 0., 0., 0., 0.,\n         0., 0., 0., 0., 0., 0., 0., 0., 0., 0., 0., 0., 0., 0., 0., 0., 0.,\n         0., 0., 0., 0., 0., 0., 0., 0., 0., 0., 0., 0., 0., 0., 0., 0., 0.,\n         0., 0., 0., 0., 0., 0., 0., 0., 0., 0., 0., 0., 0., 0., 0., 0., 0.,\n         0., 0., 0., 0., 0., 0., 0., 0., 0., 0., 0., 0., 0., 0., 0., 0., 0.,\n         0., 0., 0., 0., 0., 0., 0., 0., 0., 0., 0., 0., 0., 0., 0., 0., 0.,\n         0., 0., 0., 0., 0., 0., 0., 0., 0., 0., 0., 0., 0., 0., 0., 0., 0.,\n         0., 0., 0., 0., 0., 0., 0., 0., 0., 0., 0., 0., 0., 0., 0., 0., 0.,\n         0., 0., 0., 0., 0., 0., 0., 0., 0., 0., 0.]),\n  array([0., 0., 0., 0., 0., 0., 0., 0., 0., 0., 0., 0., 0., 0., 0., 0., 0.,\n         0., 0., 0., 0., 0., 0., 0., 0., 0., 0., 0., 0., 0., 0., 0., 0., 0.,\n         0., 0., 0., 0., 0., 0., 0., 0., 0., 0., 0., 0., 0., 0., 0., 0., 0.,\n         0., 0., 0., 0., 0., 0., 0., 0., 0., 0., 0., 0., 0., 0., 0., 0., 0.,\n         0., 0., 0., 0., 0., 0., 0., 0., 0., 0., 0., 0., 0., 0., 0., 0., 0.,\n         0., 0., 0., 0., 0., 0., 0., 0., 0., 0., 0., 0., 0., 0., 0., 0., 0.,\n         0., 0., 0., 0., 0., 0., 0., 0., 0., 0., 0., 0., 0., 0., 0., 0., 0.,\n         0., 0., 0., 0., 0., 0., 0., 0., 0., 0., 0., 0., 0., 0., 0., 0., 0.,\n         0., 0., 0., 0., 0., 0., 0., 0., 0., 0., 0., 0., 0., 0., 0., 0., 0.,\n         0., 0., 0., 0., 0., 0., 0., 0., 0., 0., 0., 0., 0., 0., 0., 0., 0.,\n         0., 0., 0., 0., 0., 0., 0., 0., 0., 0., 0., 0., 0., 0., 0., 0., 0.,\n         0., 0., 0., 0., 0., 0., 0., 0., 0., 0., 0., 0., 0., 0., 0., 0., 0.,\n         0., 0., 0., 0., 0., 0., 0., 0., 0., 0., 0., 0., 0., 0., 0., 0., 0.,\n         0., 0., 0., 0., 0., 0., 0., 0., 0., 0., 0., 0., 0., 0., 0., 0., 0.,\n         0., 0., 0., 0., 0., 0., 0., 0., 0., 0., 0., 0., 0., 0., 0., 0., 0.,\n         0., 0., 0., 0., 0., 0., 0., 0., 0., 0., 0., 0., 0., 0., 0., 0., 0.,\n         0., 0., 0., 0., 0., 0., 0., 0., 0., 0., 0., 0., 0., 0., 0., 0., 0.,\n         0., 0., 0., 0., 0., 0., 0., 0., 0., 0., 0.]),\n  array([0., 0., 0., 0., 0., 0., 0., 0., 0., 0., 0., 0., 0., 0., 0., 0., 0.,\n         0., 0., 0., 0., 0., 0., 0., 0., 0., 0., 0., 0., 0., 0., 0., 0., 0.,\n         0., 0., 0., 0., 0., 0., 0., 0., 0., 0., 0., 0., 0., 0., 0., 0., 0.,\n         0., 0., 0., 0., 0., 0., 0., 0., 0., 0., 0., 0., 0., 0., 0., 0., 0.,\n         0., 0., 0., 0., 0., 0., 0., 0., 0., 0., 0., 0., 0., 0., 0., 0., 0.,\n         0., 0., 0., 0., 0., 0., 0., 0., 0., 0., 0., 0., 0., 0., 0., 0., 0.,\n         0., 0., 0., 0., 0., 0., 0., 0., 0., 0., 0., 0., 0., 0., 0., 0., 0.,\n         0., 0., 0., 0., 0., 0., 0., 0., 0., 0., 0., 0., 0., 0., 0., 0., 0.,\n         0., 0., 0., 0., 0., 0., 0., 0., 0., 0., 0., 0., 0., 0., 0., 0., 0.,\n         0., 0., 0., 0., 0., 0., 0., 0., 0., 0., 0., 0., 0., 0., 0., 0., 0.,\n         0., 0., 0., 0., 0., 0., 0., 0., 0., 0., 0., 0., 0., 0., 0., 0., 0.,\n         0., 0., 0., 0., 0., 0., 0., 0., 0., 0., 0., 0., 0., 0., 0., 0., 0.,\n         0., 0., 0., 0., 0., 0., 0., 0., 0., 0., 0., 0., 0., 0., 0., 0., 0.,\n         0., 0., 0., 0., 0., 0., 0., 0., 0., 0., 0., 0., 0., 0., 0., 0., 0.,\n         0., 0., 0., 0., 0., 0., 0., 0., 0., 0., 0., 0., 0., 0., 0., 0., 0.,\n         0., 0., 0., 0., 0., 0., 0., 0., 0., 0., 0., 0., 0., 0., 0., 0., 0.,\n         0., 0., 0., 0., 0., 0., 0., 0., 0., 0., 0., 0., 0., 0., 0., 0., 0.,\n         0., 0., 0., 0., 0., 0., 0., 0., 0., 0., 0.])]]"
     },
     "execution_count": 42,
     "metadata": {},
     "output_type": "execute_result"
    }
   ],
   "source": [
    "#create wordInputs list\n",
    "wordsInput = instancesDf[\"wEmbedding\"].tolist()\n",
    "print(\"Shape: \" + str(len(wordsInput[0]))+\",\"+str(wordsInput[0][0].shape))\n",
    "wordsInput[0:4]"
   ]
  },
  {
   "cell_type": "code",
   "execution_count": 43,
   "metadata": {},
   "outputs": [],
   "source": [
    "#get train and test from wordinputs (with the right indexes)\n",
    "wordsInputTrain = instancesDf[instancesDf['id'].isin(trainIndexes)][\"wEmbedding\"].tolist()\n",
    "wordsInputTest = instancesDf[instancesDf['id'].isin(testIndexes)][\"wEmbedding\"].tolist()"
   ]
  },
  {
   "cell_type": "code",
   "execution_count": 40,
   "metadata": {},
   "outputs": [],
   "source": [
    "#save wordinputs to pickle\n",
    "pickle.dump(wordsInputTrain, open(\"binaries/wordsInputTrain.pkl\", 'wb'))\n",
    "pickle.dump(wordsInputTest, open(\"binaries/wordsInputTest.pkl\", 'wb'))"
   ]
  },
  {
   "cell_type": "markdown",
   "execution_count": null,
   "metadata": {},
   "outputs": [],
   "source": [
    "# DOC2VEC"
   ]
  },
  {
   "cell_type": "code",
   "execution_count": 102,
   "metadata": {},
   "outputs": [
    {
     "data": {
      "text/plain": "[TaggedDocument(words=['Panama', 'Papers', 'Europol', 'links', '3500', 'names', 'to', 'suspected', 'criminals'], tags=['pt_804113781580328960']),\n TaggedDocument(words=['Law', 'enforcement', 'agency', 'analysis', 'uncovers', 'probable', 'matches', 'connected', 'to', 'terrorism', 'money', 'laundering', 'and', 'organised', 'crime'], tags=['td_804113781580328960']),\n TaggedDocument(words=['Panama', 'Papers', 'Europol', 'links', '3500', 'names', 'to', 'suspected', 'criminals'], tags=['tt_804113781580328960']),\n TaggedDocument(words=['Law', 'enforcement', 'agency', 'analysis', 'uncovers', 'probable', 'matches', 'connected', 'to', 'terrorism', 'money', 'laundering', 'and', 'organised', 'crime', 'Almost', '3500', 'individuals', 'and', 'companies', 'in', 'the', 'Panama', 'Papers', 'are', 'probable', 'matches', 'for', 'suspected', 'criminals', 'including', 'terrorists', 'cybercriminals', 'and', 'cigarette', 'smugglers', 'according', 'to', 'a', 'document', 'seen', 'by', 'the', 'Guardian', 'The', 'analysis', 'which', 'was', 'carried', 'out', 'by', 'Europol', 'the', 'EU’s', 'law', 'enforcement', 'agency', 'sheds', 'more', 'light', 'on', 'the', 'breadth', 'of', 'criminal', 'behaviour', 'facilitated', 'by', 'tax', 'havens', 'around', 'the', 'world', '“The', 'main', 'point', 'here', 'is', 'that', 'we', 'can', 'link', 'companies', 'from', 'the', 'Panama', 'Papers', 'leaks', 'not', 'only', 'with', 'economic', 'crimes', 'like', 'money', 'laundering', 'or', 'VAT', 'carousels', 'but', 'also', 'with', 'terrorism', 'and', 'Russian', 'organised', 'crime', 'groups”', 'Simon', 'Riondet', 'head', 'of', 'financial', 'intelligence', 'at', 'Europol', 'told', 'a', 'committee', 'of', 'MEPs', 'The', 'Panama', 'Papers', 'leaked', 'files', 'from', 'the', 'offshore', 'services', 'company', 'Mossack', 'Fonseca', 'revealed', 'that', 'hundreds', 'of', 'the', 'world’s', 'wealthiest', 'and', 'most', 'powerful', 'individuals', 'had', 'used', 'offshore', 'companies', 'to', 'hide', 'their', 'riches', 'While', 'the', 'use', 'of', 'offshore', 'structures', 'is', 'legal', 'critics', 'have', 'long', 'alleged', 'that', 'they', 'can', 'also', 'be', 'used', 'to', 'facilitate', 'improper', 'or', 'unlawful', 'behaviour', 'The', 'memo', 'was', 'prepared', 'for', 'a', 'European', 'parliamentary', 'committee', 'investigating', 'how', 'the', 'offshore', 'world', 'can', 'be', 'used', 'to', 'facilitate', 'tax', 'abuse', 'and', 'international', 'crime', 'According', 'to', 'the', 'memo', 'Europol', 'compared', 'a', 'publicly', 'available', 'version', 'of', 'the', 'Panama', 'Papers', 'published', 'by', 'the', 'International', 'Consortium', 'of', 'Investigative', 'Journalists', 'with', 'its', 'own', 'databases', 'of', 'individuals', 'and', 'companies', 'suspected', 'of', 'criminal', 'involvement', 'and', 'identified', '3469', 'probable', 'matches', 'It', 'matched', '1722', 'names', 'in', 'the', 'Panama', 'Papers', 'with', 'entities', 'that', 'had', 'been', 'reported', 'by', 'EU', 'member', 'states', 'as', 'having', 'been', 'involved', 'in', 'potential', 'moneylaundering', 'transactions', 'The', 'majority', 'of', 'matches', 'originated', 'from', 'the', 'UK', 'although', 'the', 'memo', 'cautioned', 'that', 'this', 'was', 'probably', 'due', 'to', 'the', 'country’s', 'status', 'as', 'Europe’s', 'preeminent', 'financial', 'centre', 'Of', 'the', 'rest', 'among', 'others', 'a', 'further', '516', 'of', 'the', 'matches', 'were', 'connected', 'to', 'eastern', 'European', 'organised', 'criminal', 'gangs', '388', 'were', 'connected', 'to', 'VAT', 'fraud', 'operations', 'and', '260', 'to', 'cigarette', 'smuggling', 'operations', 'It', 'said', '116', 'of', 'the', 'names', 'were', 'connected', 'to', '“Hydra”', '–', 'a', 'Europol', 'codeword', 'for', 'Islamist', 'terrorism', 'according', 'to', 'the', 'document', '–', 'while', '99', 'related', 'to', '“Cola”', 'or', 'drug', 'crime', 'One', 'of', 'the', '“main', 'schemes”', 'identified', 'by', 'the', 'Europol', 'analysis', 'of', 'the', 'Panama', 'Papers', 'involves', 'the', 'abuse', 'of', 'trusts', '–', 'legal', 'arrangements', 'whereby', 'the', 'owner', 'of', 'an', 'asset', 'places', 'it', 'under', 'the', 'control', 'of', 'another', 'individual', 'or', 'company', '–', 'by', 'criminals', 'seeking', 'to', 'obscure', 'their', 'assets', 'The', 'document', 'identifies', '“the', 'use', 'of', 'corporate', 'service', 'providers', 'by', 'criminals', 'to', 'acquire', 'large', 'numbers', 'of', 'shell', 'companies', 'including', 'finding', 'third', 'parties', 'for', 'positions', 'within', 'the', 'company', 'located', 'in', 'offshoretax', 'havens', 'usually', 'under', 'the', 'form', 'of', 'holding', 'companies', 'or', 'trusts”', 'as', 'one', 'such', 'scheme', 'That', 'analysis', 'stands', 'in', 'stark', 'contrast', 'with', 'a', '2013', 'letter', 'by', 'David', 'Cameron', 'to', 'the', 'then', 'president', 'of', 'the', 'European', 'council', 'in', 'which', 'he', 'argued', 'for', 'trusts', 'to', 'be', 'excluded', 'from', 'new', 'transparency', 'measures', 'that', 'would', 'affect', 'offshore', 'companies', '“As', 'we', 'clamp', 'down', 'on', 'the', 'misuse', 'of', 'companies', 'we', 'must', 'take', 'care', 'not', 'to', 'displace', 'illicit', 'activity', 'elsewhere”', 'the', 'then', 'prime', 'minister', 'wrote', 'adding', 'later', 'in', 'the', 'letter', '“It', 'is', 'clearly', 'important', 'we', 'recognise', 'the', 'important', 'differences', 'between', 'companies', 'and', 'trusts', 'This', 'means', 'that', 'the', 'solution', 'for', 'addressing', 'the', 'potential', 'misuse', 'of', 'companies', '–', 'such', 'as', 'a', 'central', 'public', 'registries', '–', 'may', 'well', 'not', 'be', 'appropriate', 'generally”', 'Separately', 'to', 'its', 'analysis', 'of', 'the', 'Panama', 'Papers', 'the', 'Europol', 'briefing', 'also', 'suggests', 'that', 'Luxembourg', 'widely', 'known', 'as', 'a', 'major', 'tax', 'haven', 'for', 'multinational', 'corporations', 'is', 'also', 'failing', 'to', 'tackle', 'moneylaundering', 'offences', '“Reporting', 'figures', 'across', 'the', 'EU', 'do', 'not', 'always', 'appear', 'to', 'be', 'commensurate', 'with', 'the', 'activities', 'of', 'the', 'regulated', 'sector', 'in', 'particular', 'jurisdictions', 'notably', 'Cyprus', 'and', 'Malta', 'and', 'Luxembourg', 'receive', 'very', 'few', 'reports', 'given', 'the', 'significance', 'of', 'these', 'jurisdictions', 'in', 'offshore', 'financial', 'service', 'and', 'the', 'online', 'gambling', 'industry”', 'the', 'memo', 'reads', '“Furthermore', 'the', 'vast', 'majority', 'of', 'reports', 'filed', 'with', 'Luxembourg', 'stem', 'from', 'a', 'single', 'electronic', 'bankpayment', 'service', 'provider', 'in', 'spite', 'of', 'the', 'fact', 'that', 'other', 'sectors', 'such', 'as', 'private', 'banking', 'and', 'offshore', 'financial', 'services', 'offer', 'significant', 'scope', 'for', 'moneylaundering', 'activities', 'and', 'tax', 'crimes”', 'Europol', 'declined', 'to', 'comment', 'Separately', 'Giovanni', 'Kessler', 'the', 'director', 'general', 'of', 'OLAF', 'the', 'European', 'antifraud', 'office', 'told', 'the', 'MEPs', 'his', 'agency', 'had', 'opened', 'four', 'investigations', 'into', 'potential', 'cases', 'of', 'fraud', 'against', 'the', 'European', 'Union', '“on', 'the', 'basis', 'of', 'an', 'analysis', 'of', 'information', 'related', 'to', 'the', 'Panama', 'Papers', 'and', 'of', 'information', 'obtained', 'from', 'other', 'sources”'], tags=['tp_804113781580328960']),\n TaggedDocument(words=['The', 'key', 'to', 'truly', 'great', 'chicken', 'soup'], tags=['pt_804119512010424320']),\n TaggedDocument(words=['For', 'the', 'best', 'rendition', 'of', 'this', 'American', 'classic', 'start', 'with', 'a', 'whole', 'bird'], tags=['td_804119512010424320']),\n TaggedDocument(words=['A', 'Superior', 'Chicken', 'Soup'], tags=['tt_804119512010424320']),\n TaggedDocument(words=['Warm', 'and', 'comforting', 'this', 'soup', 'is', 'a', 'classic', 'to', 'master', 'Chicken', 'soup', 'is', 'one', 'of', 'the', 'most', 'painless', 'and', 'pleasing', 'things', 'to', 'make', 'in', 'a', 'home', 'kitchen', 'But', 'do', 'modern', 'cooks', 'know', 'that', 'During', 'America’s', 'inexorable', 'march', 'toward', 'processed', 'food', 'chicken', 'soup', 'became', 'something', 'to', 'buy', 'not', 'something', 'to', 'make', '—', 'Campbell’s', 'alone', 'produces', 'more', 'than', '50', 'varieties', '—', 'and', 'many', 'cooks', 'simply', 'don’t', 'know', 'how', 'satisfying', 'a', 'project', 'it', 'is', '“So', 'what', 'comes', 'first', 'the', 'chicken', 'or', 'the', 'soup”', 'Ashley', 'Aguilar', 'a', 'radiology', 'technician', 'in', 'San', 'Jose', 'Calif', 'asked', 'after', 'spotting', 'an', 'online', 'photo', 'of', 'my', 'homemade', 'chicken', 'soup', 'It', 'is', 'a', 'very', 'deep', 'question', 'beyond', 'the', 'scope', 'of', 'this', 'column', 'But', 'I', 'can', 'confidently', 'state', 'that', 'chicken', 'soup', 'will', 'carry', 'even', 'the', 'laziest', 'cook', 'through', 'a', 'long', 'cold', 'season', '“It’s', 'literally', 'the', 'easiest', 'thing', 'in', 'the', 'world', 'to', 'cook”', 'said', 'Leah', 'Koenig', 'the', 'author', 'of', '“Modern', 'Jewish', 'Cooking”', '“You', 'just', 'put', 'stuff', 'in', 'a', 'pot', 'and', 'walk', 'away”', 'Not', 'quite', 'There', 'is', 'a', 'method', 'to', 'producing', 'a', 'fragrant', 'golden', 'savory', 'soup', 'you', 'want', 'to', 'eat', 'all', 'winter', 'long', 'The', 'chicken', 'soup', 'with', 'root', 'vegetables', 'carrot', 'onion', 'leeks', 'celery', 'that', 'we', 'recognize', 'as', 'the', 'American', 'classic', 'was', 'first', 'a', 'staple', 'across', 'Northern', 'Europe', 'Egg', 'noodles', 'the', 'perfect', 'filling', 'addition', 'ranged', 'from', 'the', 'thinnest', 'of', 'white', 'threads', 'to', 'fat', 'yellow', 'twists', 'The', 'formulas', 'were', 'carried', 'to', 'the', 'United', 'States', 'by', 'cooks', 'from', 'Scotland', 'cockaleekie', 'from', 'Poland', 'rosol', 'and', 'from', 'all', 'the', 'places', 'in', 'between', 'where', 'Mennonites', 'Amish', 'and', 'Jews', 'lived', 'Jewish', 'families', 'in', 'villages', 'across', 'the', 'region', 'raised', 'chickens', 'instead', 'of', 'the', 'more', 'usual', 'pigs', 'which', 'may', 'explain', 'why', 'Ashkenazi', 'Jews', 'are', 'so', 'connected', 'to', 'chicken', 'soup', 'here', 'In', 'Yiddish', 'chicken', 'broth', 'is', 'called', 'goldene', 'yoich', 'golden', 'broth', '—', 'much', 'as', 'America', 'was', 'called', 'the', 'goldene', 'medina', 'the', 'golden', 'land', '—', 'with', 'all', 'the', 'same', 'connotations', 'of', 'richness', 'sunshine', 'and', 'good', 'fortune', 'The', 'first', 'thing', 'to', 'do', '—', 'apologies', 'in', 'advance', '—', 'is', 'to', 'ignore', 'the', 'ancestral', 'recipes', 'There’s', 'much', 'kitchen', 'wisdom', 'to', 'be', 'found', 'on', 'old', 'index', 'cards', 'and', 'in', 'vintage', 'cookbooks', 'but', 'chickens', 'and', 'chicken', 'recipes', 'have', 'changed', 'Not', 'so', 'long', 'ago', 'cooks', 'had', 'the', 'knowledge', 'to', 'choose', 'between', 'pullets', 'and', 'capons', 'broilers', 'and', 'fryers', 'spring', 'chickens', 'and', 'stewing', 'roosters', '—', 'each', 'one', 'best', 'suited', 'to', 'a', 'particular', 'treatment', 'in', 'the', 'kitchen', 'Our', 'most', 'recent', 'basic', 'chicken', 'soup', 'recipe', 'in', 'The', 'Times', 'from', '1995', 'calls', 'for', '“a', 'big', 'old', 'hen”', '5', 'to', '6', 'pounds', 'including', 'the', 'neck', 'and', 'giblets', 'Today', 'even', 'if', 'I', 'were', 'to', 'become', 'deeply', 'familiar', 'with', 'the', 'life', 'cycle', 'and', 'gender', 'transitions', 'of', 'the', 'modern', 'chicken', 'I', 'couldn’t', 'easily', 'provision', 'any', 'of', 'those', 'Many', 'old', 'recipes', 'also', 'assume', 'that', 'soup', 'is', 'a', 'dish', 'of', 'last', 'resort', 'designed', 'to', 'wring', 'the', 'final', 'drops', 'of', 'flavor', 'from', 'a', 'valuable', 'piece', 'of', 'protein', 'that', 'has', 'already', 'served', 'its', 'purpose', 'So', 'Old', 'World', 'chicken', 'soup', 'is', 'often', 'made', 'from', 'an', 'alreadycooked', 'carcass', 'or', 'simmered', 'for', 'many', 'hours', 'or', 'boosted', 'with', 'onion', 'skins', 'and', 'carrots', 'to', 'mask', 'a', 'lack', 'of', 'flavor', 'and', 'color', 'But', 'thriftiness', 'is', 'no', 'longer', 'the', 'only', 'thing', 'we', 'want', 'to', 'see', 'reflected', 'in', 'our', 'bowl', 'of', 'chicken', 'soup', 'Instead', 'we', 'want', 'real', 'ingredients', 'that', 'promise', 'a', 'wholesome', 'dinner', 'or', 'lunch', 'or', 'snack', 'floating', 'in', 'a', 'clear', 'golden', 'broth', 'To', 'devise', 'a', 'recipe', 'that', 'reflects', 'modern', 'reality', 'but', 'provides', 'a', 'profound', 'traditional', 'taste', 'I', 'established', 'some', 'ground', 'rules', 'Recipes', 'that', 'call', 'for', 'carcasses', 'or', 'rotisserie', 'chicken', 'cannot', 'be', 'trusted', 'Recipes', 'that', 'demand', 'constant', 'skimming', 'are', 'to', 'be', 'ignored', 'And', 'recipes', 'that', 'instruct', 'the', 'cook', 'to', 'remove', 'the', 'skin', 'are', 'to', 'be', 'laughed', 'out', 'of', 'the', 'kitchen', '“Chicken', 'skin', 'is', 'not', 'pure', 'fat', 'as', 'many', 'people', 'seem', 'to', 'believe”', 'said', 'Jennifer', 'McLagan', 'the', 'author', 'of', 'cookbooks', 'including', '“Fat”', 'and', '“Bones”', 'It’s', 'also', 'rich', 'in', 'collagen', 'which', 'gives', 'the', 'soup', 'its', 'silky', 'unctuousness', 'In', 'the', 'absence', 'of', 'parts', 'like', 'feet', 'and', 'necks', 'she', 'said', 'the', 'skin', 'provides', 'most', 'of', 'the', 'collagen', 'in', 'modern', 'recipes', 'and', 'is', 'therefore', 'crucial', 'to', 'the', 'soup', 'Ms', 'Koenig', 'provided', 'an', 'elegantly', 'simple', 'starting', 'point', 'a', 'whole', 'bird', 'Using', 'the', 'entire', 'chicken', 'which', 'once', 'would', 'have', 'seemed', 'impossibly', 'extravagant', 'for', 'soup', 'provides', 'the', 'perfect', 'balance', 'of', 'fat', 'and', 'flavor', 'It', 'doesn’t', 'need', 'to', 'be', 'cooked', 'for', 'very', 'long', 'as', 'the', 'plentiful', 'skin', 'meat', 'and', 'collagen', 'quickly', 'yield', 'to', 'the', 'heat', 'That', 'shorter', 'cooking', 'keeps', 'the', 'broth', 'clear', 'so', 'long', 'as', 'the', 'pot', 'is', 'not', 'allowed', 'to', 'boil', 'Boiling', 'every', 'molecule', 'of', 'protein', 'out', 'of', 'animal', 'bones', 'is', 'a', 'key', 'step', 'in', 'making', 'some', 'traditional', 'soups', 'But', 'Ms', 'McLagan', 'points', 'out', 'that', 'chickens', 'like', 'all', 'birds', 'have', 'light', 'hollow', 'bones', 'with', 'very', 'little', 'marrow', 'and', 'there’s', 'little', 'to', 'be', 'gained', 'by', 'cooking', 'them', 'endlessly', 'And', 'poaching', 'the', 'bird', 'at', 'low', 'temperature', 'yields', 'bountiful', 'tender', 'white', 'meat', 'to', 'float', 'in', 'the', 'soup', 'and', 'plenty', 'of', 'dark', 'meat', 'to', 'save', 'for', 'another', 'meal', 'like', 'chicken', 'potpie', 'Since', 'the', 'whole', 'bird', 'is', 'the', 'foundation', 'of', 'the', 'soup', 'how', 'to', 'choose', 'one', 'Sold', 'at', 'a', 'uniform', '3', 'to', '3½', 'pounds', 'today’s', 'commercial', 'chickens', 'are', 'raised', 'and', 'labeled', 'in', 'many', 'different', 'ways', 'Some', 'eat', 'only', 'organic', 'feed', 'but', 'are', 'still', 'raised', 'in', 'crowded', 'barns', 'others', 'have', 'an', 'allnatural', 'diet', 'and', 'have', 'the', 'run', 'of', 'the', 'farm', 'others', 'are', 'slaughtered', 'according', 'to', 'strict', 'kosher', 'laws', 'but', 'have', 'been', 'treated', 'with', 'antibiotics', 'Since', 'making', 'soup', 'includes', 'the', 'bones', 'and', 'tissues', 'of', 'the', 'bird', 'it', 'is', 'particularly', 'reassuring', 'here', 'to', 'use', 'the', 'highestquality', 'poultry', 'you', 'can', 'afford', 'Buy', 'minimally', 'processed', 'birds', 'from', 'sources', 'you', 'trust', 'that', 'provide', 'transparency', 'about', 'how', 'the', 'animals', 'are', 'raised', 'processed', 'and', 'packed', 'For', 'the', 'best', 'end', 'result', 'follow', 'a', 'twostep', 'process', 'First', 'use', 'that', 'chicken', 'to', 'make', 'a', 'plain', 'but', 'perfect', 'broth', 'then', 'bring', 'the', 'addons', 'that', 'turn', 'that', 'broth', 'into', 'soup', 'The', 'vegetables', 'from', 'cooking', 'the', 'broth', 'are', 'tasty', 'but', 'not', 'bright', 'and', 'fresh', 'enough', 'to', 'be', 'appetizing', 'in', 'soup', 'Strain', 'them', 'out', 'before', 'proceeding', 'with', 'fresh', 'ingredients', 'Those', 'cooked', 'vegetables', 'are', 'a', 'nice', 'dividend', 'for', 'the', 'cook', 'eat', 'them', 'with', 'your', 'favorite', 'vinaigrette', 'Celery', 'is', 'a', 'key', 'flavor', 'component', 'for', 'the', 'broth', 'but', 'an', 'unscientific', 'poll', 'revealed', 'that', 'the', 'usual', 'bits', 'of', 'cooked', 'celery', 'in', 'the', 'soup', 'are', 'unpopular', 'Keeping', 'the', 'carrots', 'I', 'added', 'on', 'leeks', 'for', 'their', 'pretty', 'pale', 'green', 'color', 'and', 'extra', 'allium', 'flavor', 'I', 'do', 'not', 'believe', 'in', 'garlic', 'in', 'chicken', 'soup', '—', 'that’s', 'just', 'how', 'I', 'was', 'raised', '—', 'but', 'some', 'cooks', 'do', 'add', 'a', 'couple', 'of', 'cloves', 'to', 'the', 'broth', 'Parsley', 'root', 'which', 'looks', 'like', 'a', 'creamy', 'white', 'carrot', 'with', 'parsley', 'sprigs', 'shooting', 'out', 'of', 'the', 'top', 'is', 'a', 'key', 'flavor', 'component', 'in', 'Eastern', 'European', 'soups', 'worth', 'finding', 'for', 'its', 'fragrant', 'sharpness', 'A', 'parsnip', 'is', 'a', 'worthy', 'substitute', 'Older', 'recipes', 'are', 'very', 'stern', 'about', 'skimming', 'soup', 'as', 'it', 'cooks', 'This', 'is', 'supposed', 'to', 'remove', 'nameless', '“impurities”', 'from', 'the', 'soup', 'much', 'as', 'twisting', 'in', 'yoga', 'positions', 'is', 'supposed', 'to', 'wring', 'out', '“toxins”', 'But', 'skimming', 'is', 'not', 'really', 'necessary', 'to', 'remove', 'the', 'inevitable', 'bits', 'of', 'coagulated', 'protein', 'and', 'collagen', 'that', 'form', 'as', 'they', 'do', 'in', 'any', 'meat', 'soup', 'When', 'using', 'a', 'whole', 'chicken', 'and', 'a', 'slow', 'poach', 'there', 'is', 'very', 'little', 'of', 'this', 'stuff', 'to', 'contend', 'with', 'Whatever', 'iffy', 'bits', 'do', 'rise', 'to', 'the', 'top', 'are', 'removed', 'when', 'the', 'stock', 'is', 'strained', 'And', 'the', 'fat', 'does', 'not', 'need', 'to', 'be', 'painstakingly', 'skimmed', 'off', 'because', 'it', 'will', 'be', 'removed', '—', 'quickly', 'and', 'neatly', '—', 'when', 'the', 'broth', 'is', 'chilled', 'and', 'it', 'has', 'turned', 'solid', 'A', 'nice', 'trick', 'is', 'to', 'save', 'that', 'fat', 'and', 'use', 'it', 'to', 'cook', 'the', 'vegetables', 'for', 'the', 'finished', 'soup', 'The', 'clear', 'clean', 'broth', 'can', 'now', 'flow', 'in', 'many', 'directions', 'Whatever', 'is', 'not', 'to', 'be', 'imminently', 'converted', 'to', 'soup', 'should', 'be', 'frozen', 'for', 'future', 'use', 'For', 'the', 'most', 'basic', 'chicken', 'soup', 'this', 'recipe', 'will', 'work', 'beautifully', 'with', 'or', 'without', 'a', 'starchy', 'component', 'such', 'as', 'noodles', 'rice', 'matzo', 'balls', 'or', 'dumplings', 'they', 'all', 'absorb', 'fat', 'and', 'flavor', 'from', 'the', 'soup', 'And', 'if', 'the', 'finished', 'soup', 'seems', 'lackluster', 'or', 'too', 'clear', '—', 'no', 'golden', 'bubbles', 'winking', 'at', 'the', 'top', '—', 'stir', 'in', 'spoonfuls', 'of', 'the', 'reserved', 'chicken', 'fat', 'until', 'the', 'situation', 'is', 'remedied', '“Chicken', 'fat', 'is', 'everything', 'when', 'it', 'comes', 'to', 'soup”', 'Ms', 'Koenig', 'said', '“You', 'just', 'have', 'to', 'embrace', 'it”', 'Recipe', 'Chicken', 'Soup', 'From', 'Scratch'], tags=['tp_804119512010424320']),\n TaggedDocument(words=['Afghan', 'policewomen', 'face', 'down', 'their', 'fears', 'to', 'serve'], tags=['pt_804121272967983104'])]"
     },
     "execution_count": 102,
     "metadata": {},
     "output_type": "execute_result"
    }
   ],
   "source": [
    "#generate tagged documents. We'll use 4 documents for each post, in order to better train the model.\n",
    "\n",
    "taggedDocuments= []\n",
    "\n",
    "for index, row in instancesDf.iterrows():\n",
    "    taggedDocuments.append(TaggedDocument(words=row[\"ptWordTokens\"], tags=['pt_' + str(row[\"id\"])]))\n",
    "    taggedDocuments.append(TaggedDocument(words=row[\"tdWordTokens\"], tags=['td_' + str(row[\"id\"])]))\n",
    "    #use more relevant text to improve the model\n",
    "    taggedDocuments.append(TaggedDocument(words=row[\"ttWordTokens\"], tags=['tt_' + str(row[\"id\"])]))\n",
    "    taggedDocuments.append(TaggedDocument(words=row[\"tpWordTokens\"], tags=['tp_' + str(row[\"id\"])]))\n",
    "\n",
    "taggedDocuments[0:9]"
   ]
  },
  {
   "cell_type": "code",
   "execution_count": 113,
   "metadata": {},
   "outputs": [
    {
     "name": "stdout",
     "output_type": "stream",
     "text": "epoch 0\nepoch 1\nepoch 2\nepoch 3\nepoch 4\nepoch 5\nepoch 6\nepoch 7\nepoch 8\nepoch 9\n"
    }
   ],
   "source": [
    "# Train doc2vec model - Run only once. This takes a long time!\n",
    "vector_size = 300\n",
    "max_epochs = 10\n",
    "\n",
    "model = Doc2Vec(vector_size=vector_size, alpha=0.025, min_alpha=0.025, min_count=0)\n",
    "model.build_vocab(taggedDocuments)\n",
    "for epoch in range(max_epochs):\n",
    "    print('epoch ' + str(epoch))\n",
    "    model.train(taggedDocuments,total_examples=model.corpus_count,epochs=model.epochs)\n",
    "    model.alpha -= 0.002\n",
    "    model.min_alpha = model.alpha"
   ]
  },
  {
   "cell_type": "code",
   "execution_count": 114,
   "metadata": {},
   "outputs": [
    {
     "name": "stdout",
     "output_type": "stream",
     "text": "[ 0.17153263  0.04772166 -0.03229137 -0.38463593 -0.07898074  0.33678788\n -0.19668435  0.24740963 -0.18152006  0.28635544  0.11556382 -0.14178896\n -0.17527841 -0.1371888  -0.09069099  0.3382316   0.49927413 -0.02677713\n  0.12057696 -0.08046931  0.19330077 -0.06223743 -0.1835499  -0.0326109\n  0.13576275 -0.20044236  0.18533514 -0.23550253 -0.01691064 -0.19712907\n -0.28100276  0.21513352 -0.33323956 -0.04164119  0.04689311 -0.10317971\n  0.08195734  0.4510489   0.37375095 -0.38068745 -0.6383691  -0.18341313\n  0.41853735  0.3951616   0.08173611  0.0405745   0.12530331 -0.05089106\n  0.4073627  -0.18494931  0.05363579 -0.47667322  0.04930605  0.08184695\n -0.14973922  0.01086683  0.35989538 -0.29198822  0.22074513  0.0110029\n  0.13387807  0.03990279 -0.01968911  0.1851013  -0.05029407  0.10479826\n  0.32215053  0.06236199 -0.5448705   0.19848631 -0.08144476 -0.15475754\n -0.33050084 -0.35921264  0.18554178 -0.407445   -0.09105335 -0.4563737\n  0.17262255 -0.15485175  0.03405532  0.02455505  0.269602    0.34030384\n  0.1749131  -0.1278923   0.12509859  0.14777613 -0.14693575  0.29286006\n  0.20666277 -0.02915695 -0.16924989  0.12315777  0.07077993 -0.3805049\n  0.3272395  -0.11095206 -0.19184408 -0.4517968   0.05071592 -0.08420408\n -0.26419446  0.55583453  0.23637494  0.16465099  0.14753482  0.01912375\n -0.08151855  0.30291352  0.23283316 -0.09345527  0.20903999  0.2821269\n -0.14182888  0.07281267 -0.26378143 -0.2969645  -0.16444878  0.01241043\n  0.16282932  0.00853342 -0.09012619 -0.14409746 -0.3292262  -0.21820383\n -0.04674932 -0.206689    0.07579142 -0.14361353  0.32180783  0.3362734\n -0.26590627 -0.1046243  -0.27327543 -0.05149347  0.11550559  0.10521465\n -0.09917422  0.10193946 -0.24660604 -0.25603956  0.07288769  0.03337868\n  0.3230689   0.04963606  0.0041082   0.0886796   0.14107281 -0.20829889\n  0.10255765 -0.21122493  0.00353932  0.02128233 -0.03924202  0.03729098\n  0.30958375  0.05050773  0.22805223  0.04200291 -0.01351155  0.17827637\n -0.20409442  0.02147121  0.0719445   0.18459858 -0.35901096 -0.0384177\n -0.04992954 -0.08842164  0.43892285 -0.06076775 -0.16956963  0.19919917\n -0.14927429 -0.0968865  -0.06434837 -0.03382116 -0.07668059  0.02765426\n -0.08972675  0.21859789 -0.13307747 -0.33034208  0.20215945 -0.25056762\n  0.23162676  0.62333125  0.08061366 -0.26636514  0.35722804  0.21391296\n -0.1665796  -0.07761141 -0.24662247 -0.02475742  0.34840798 -0.21131982\n -0.14891818  0.03572963  0.32277516  0.03823841  0.0127134  -0.08372197\n  0.1844552  -0.01051257 -0.11262431 -0.22251967  0.22100224  0.09021692\n -0.01354574 -0.12460742  0.1285349   0.06645387  0.05818445  0.2955005\n  0.05661339  0.15129559  0.11092257  0.08795089 -0.21605854  0.0842082\n -0.06923322 -0.16240154  0.18913524  0.21326727  0.23013707 -0.09347893\n -0.18312562 -0.04790286  0.1001955  -0.01150235  0.1283623   0.10438727\n -0.22832224 -0.1697443  -0.17007051  0.36087555 -0.2813509   0.05302314\n -0.03953058 -0.08696005  0.23512065  0.08299721  0.38567287  0.2544025\n -0.23330216 -0.18362355  0.03407316 -0.01992242  0.01795898 -0.02085042\n -0.35402855 -0.04409404 -0.28466904  0.22723936  0.34538633 -0.21595201\n  0.12655585 -0.19748569 -0.02470271  0.3575342  -0.04827764  0.12958135\n  0.11458129  0.1988115  -0.13514584  0.16744451 -0.15641263  0.06794371\n  0.08131769  0.04529066 -0.16215655  0.06207864 -0.20074339  0.11699033\n  0.16736878  0.07859923  0.1685961   0.06840145 -0.10084825  0.33306998\n  0.06399273  0.269351   -0.12791535  0.1380249  -0.14937505 -0.2356977\n  0.1317573   0.2411264  -0.15917683  0.01577048  0.10797713 -0.23928119\n -0.31479713 -0.09825372 -0.0768033  -0.0030754   0.02168299  0.4211481 ]\n"
    }
   ],
   "source": [
    "print(model.docvecs[\"pt_\"+str(totalIds[0])])\n",
    "\n",
    "model.save(\"binaries/docModel.d2v\")"
   ]
  },
  {
   "cell_type": "code",
   "execution_count": 12,
   "metadata": {},
   "outputs": [
    {
     "data": {
      "text/html": "<div>\n<style scoped>\n    .dataframe tbody tr th:only-of-type {\n        vertical-align: middle;\n    }\n\n    .dataframe tbody tr th {\n        vertical-align: top;\n    }\n\n    .dataframe thead th {\n        text-align: right;\n    }\n</style>\n<table border=\"1\" class=\"dataframe\">\n  <thead>\n    <tr style=\"text-align: right;\">\n      <th></th>\n      <th>id</th>\n      <th>postText</th>\n      <th>ptEmbedding</th>\n      <th>targetDescription</th>\n      <th>tdEmbedding</th>\n    </tr>\n  </thead>\n  <tbody>\n    <tr>\n      <th>0</th>\n      <td>804113781580328960</td>\n      <td>[Panama Papers: Europol links 3,500 names to s...</td>\n      <td>[0.17153263, 0.047721658, -0.032291368, -0.384...</td>\n      <td>Law enforcement agency analysis uncovers proba...</td>\n      <td>[0.18630086, -0.16751397, -0.15527701, -0.3248...</td>\n    </tr>\n    <tr>\n      <th>1</th>\n      <td>804119512010424320</td>\n      <td>[The key to truly great chicken soup]</td>\n      <td>[0.34307212, 0.2663471, -0.21023557, -0.107252...</td>\n      <td>For the best rendition of this American classi...</td>\n      <td>[0.40207833, 0.09169146, -0.13987862, -0.23077...</td>\n    </tr>\n    <tr>\n      <th>2</th>\n      <td>804121272967983104</td>\n      <td>[Afghan policewomen face down their fears to s...</td>\n      <td>[0.0018796567, 0.054279476, 0.31657192, 0.1075...</td>\n      <td>The Afghan women risking all to join the police.</td>\n      <td>[0.2636815, -0.20044923, 0.05749943, 0.0273467...</td>\n    </tr>\n    <tr>\n      <th>3</th>\n      <td>804123103995580416</td>\n      <td>[Conservatives are watching less football this...</td>\n      <td>[-0.15385677, -0.22928531, 0.19694602, -0.3893...</td>\n      <td>Many factors are dragging down NFL ratings, in...</td>\n      <td>[-0.060980454, -0.40748948, -0.7688499, -0.662...</td>\n    </tr>\n    <tr>\n      <th>4</th>\n      <td>804126501117435904</td>\n      <td>[Richard Sherman weighs in on Cam Newton’s str...</td>\n      <td>[0.15808621, 0.028167, 0.12358521, -0.09619520...</td>\n      <td>Seattle Seahawks news, rumors, scores, schedul...</td>\n      <td>[0.08605767, -0.06142029, -0.31274286, -0.6818...</td>\n    </tr>\n    <tr>\n      <th>...</th>\n      <td>...</td>\n      <td>...</td>\n      <td>...</td>\n      <td>...</td>\n      <td>...</td>\n    </tr>\n    <tr>\n      <th>19533</th>\n      <td>858455355948384256</td>\n      <td>[Trump now agrees with the majority of America...</td>\n      <td>[0.32056072, 0.062383603, -0.51736563, -0.3755...</td>\n      <td>Donald Trump spent a great portion of 2016 ins...</td>\n      <td>[-0.2091352, -0.6762934, -0.7266204, -1.202224...</td>\n    </tr>\n    <tr>\n      <th>19534</th>\n      <td>858459539296980992</td>\n      <td>[Trump has flip-flopped. But his supporters ar...</td>\n      <td>[0.77466464, 0.07820402, -0.65979546, -0.25709...</td>\n      <td>Barely over a tenth of Trump voters think his ...</td>\n      <td>[0.24495552, -0.2633511, -0.13568722, -0.33954...</td>\n    </tr>\n    <tr>\n      <th>19535</th>\n      <td>858460992073863168</td>\n      <td>[Inside North Korea's secret prisons]</td>\n      <td>[0.13309573, -0.052835807, -0.1235173, -0.2101...</td>\n      <td>A female guard (stock photo) at a North Korean...</td>\n      <td>[1.0498183, -0.099413924, -0.83251196, 0.21273...</td>\n    </tr>\n    <tr>\n      <th>19536</th>\n      <td>858462320779026432</td>\n      <td>[UK’s response to modern slavery leaving victi...</td>\n      <td>[0.07296889, 0.1664854, -0.028877584, -0.36811...</td>\n      <td>“Inexcusable” failures in the UK’s system for ...</td>\n      <td>[0.5645722, 0.39497322, -0.2976324, -0.3212662...</td>\n    </tr>\n    <tr>\n      <th>19537</th>\n      <td>858464162594172928</td>\n      <td>[Facts that will be truly upsetting to '90s gi...</td>\n      <td>[0.013611094, -0.2775537, -0.25038737, -0.3211...</td>\n      <td></td>\n      <td>[0.00010325842, -0.00069383014, 0.0014997876, ...</td>\n    </tr>\n  </tbody>\n</table>\n<p>19538 rows × 5 columns</p>\n</div>",
      "text/plain": "                       id                                           postText  \\\n0      804113781580328960  [Panama Papers: Europol links 3,500 names to s...   \n1      804119512010424320              [The key to truly great chicken soup]   \n2      804121272967983104  [Afghan policewomen face down their fears to s...   \n3      804123103995580416  [Conservatives are watching less football this...   \n4      804126501117435904  [Richard Sherman weighs in on Cam Newton’s str...   \n...                   ...                                                ...   \n19533  858455355948384256  [Trump now agrees with the majority of America...   \n19534  858459539296980992  [Trump has flip-flopped. But his supporters ar...   \n19535  858460992073863168              [Inside North Korea's secret prisons]   \n19536  858462320779026432  [UK’s response to modern slavery leaving victi...   \n19537  858464162594172928  [Facts that will be truly upsetting to '90s gi...   \n\n                                             ptEmbedding  \\\n0      [0.17153263, 0.047721658, -0.032291368, -0.384...   \n1      [0.34307212, 0.2663471, -0.21023557, -0.107252...   \n2      [0.0018796567, 0.054279476, 0.31657192, 0.1075...   \n3      [-0.15385677, -0.22928531, 0.19694602, -0.3893...   \n4      [0.15808621, 0.028167, 0.12358521, -0.09619520...   \n...                                                  ...   \n19533  [0.32056072, 0.062383603, -0.51736563, -0.3755...   \n19534  [0.77466464, 0.07820402, -0.65979546, -0.25709...   \n19535  [0.13309573, -0.052835807, -0.1235173, -0.2101...   \n19536  [0.07296889, 0.1664854, -0.028877584, -0.36811...   \n19537  [0.013611094, -0.2775537, -0.25038737, -0.3211...   \n\n                                       targetDescription  \\\n0      Law enforcement agency analysis uncovers proba...   \n1      For the best rendition of this American classi...   \n2       The Afghan women risking all to join the police.   \n3      Many factors are dragging down NFL ratings, in...   \n4      Seattle Seahawks news, rumors, scores, schedul...   \n...                                                  ...   \n19533  Donald Trump spent a great portion of 2016 ins...   \n19534  Barely over a tenth of Trump voters think his ...   \n19535  A female guard (stock photo) at a North Korean...   \n19536  “Inexcusable” failures in the UK’s system for ...   \n19537                                                      \n\n                                             tdEmbedding  \n0      [0.18630086, -0.16751397, -0.15527701, -0.3248...  \n1      [0.40207833, 0.09169146, -0.13987862, -0.23077...  \n2      [0.2636815, -0.20044923, 0.05749943, 0.0273467...  \n3      [-0.060980454, -0.40748948, -0.7688499, -0.662...  \n4      [0.08605767, -0.06142029, -0.31274286, -0.6818...  \n...                                                  ...  \n19533  [-0.2091352, -0.6762934, -0.7266204, -1.202224...  \n19534  [0.24495552, -0.2633511, -0.13568722, -0.33954...  \n19535  [1.0498183, -0.099413924, -0.83251196, 0.21273...  \n19536  [0.5645722, 0.39497322, -0.2976324, -0.3212662...  \n19537  [0.00010325842, -0.00069383014, 0.0014997876, ...  \n\n[19538 rows x 5 columns]"
     },
     "execution_count": 12,
     "metadata": {},
     "output_type": "execute_result"
    }
   ],
   "source": [
    "#load model if it exists\n",
    "model = Doc2Vec.load(\"binaries/docModel.d2v\")\n",
    "\n",
    "#get document vector from the model, for post text and targetDescription\n",
    "instancesDf[\"ptEmbedding\"] = instancesDf[[\"id\"]].apply(lambda row : model.docvecs[\"pt_\"+str(row[0])], axis=1) \n",
    "instancesDf[\"tdEmbedding\"] = instancesDf[[\"id\"]].apply(lambda row : model.docvecs[\"td_\"+str(row[0])], axis=1)\n",
    "\n",
    "instancesDf[[\"id\", \"postText\", \"ptEmbedding\", \"targetDescription\", \"tdEmbedding\"]]"
   ]
  },
  {
   "cell_type": "code",
   "execution_count": 20,
   "metadata": {},
   "outputs": [],
   "source": [
    "#Create train and test inputs, using train and test ids\n",
    "documentsPostInputTrain = instancesDf[instancesDf['id'].isin(trainIndexes)][\"ptEmbedding\"].tolist()\n",
    "documentsTargetInputTrain = instancesDf[instancesDf['id'].isin(trainIndexes)][\"tdEmbedding\"].tolist()\n",
    "documentsPostInputTest = instancesDf[instancesDf['id'].isin(testIndexes)][\"ptEmbedding\"].tolist()\n",
    "documentsTargetInputTest = instancesDf[instancesDf['id'].isin(testIndexes)][\"tdEmbedding\"].tolist()"
   ]
  },
  {
   "cell_type": "code",
   "execution_count": 21,
   "metadata": {},
   "outputs": [],
   "source": [
    "#output to pickle\n",
    "pickle.dump(documentsPostInputTrain, open(\"binaries/documentsPostInputTrain.pkl\", 'wb'))\n",
    "pickle.dump(documentsTargetInputTrain, open(\"binaries/documentsTargetInputTrain.pkl\", 'wb'))\n",
    "\n",
    "pickle.dump(documentsPostInputTest, open(\"binaries/documentsPostInputTest.pkl\", 'wb'))\n",
    "pickle.dump(documentsTargetInputTest, open(\"binaries/documentsTargetInputTest.pkl\", 'wb'))"
   ]
  },
  {
   "cell_type": "markdown",
   "execution_count": null,
   "metadata": {},
   "outputs": [],
   "source": [
    "# IMAGES"
   ]
  },
  {
   "cell_type": "code",
   "execution_count": 46,
   "metadata": {},
   "outputs": [
    {
     "data": {
      "text/html": "<div>\n<style scoped>\n    .dataframe tbody tr th:only-of-type {\n        vertical-align: middle;\n    }\n\n    .dataframe tbody tr th {\n        vertical-align: top;\n    }\n\n    .dataframe thead th {\n        text-align: right;\n    }\n</style>\n<table border=\"1\" class=\"dataframe\">\n  <thead>\n    <tr style=\"text-align: right;\">\n      <th></th>\n      <th>postMedia</th>\n      <th>imgMatrice</th>\n    </tr>\n  </thead>\n  <tbody>\n    <tr>\n      <th>0</th>\n      <td>[]</td>\n      <td>None</td>\n    </tr>\n    <tr>\n      <th>1</th>\n      <td>[media/photo_804119509338640385.jpg]</td>\n      <td>[[[[141.061   130.22101 124.32   ], [141.061  ...</td>\n    </tr>\n    <tr>\n      <th>2</th>\n      <td>[]</td>\n      <td>None</td>\n    </tr>\n    <tr>\n      <th>3</th>\n      <td>[]</td>\n      <td>None</td>\n    </tr>\n    <tr>\n      <th>4</th>\n      <td>[media/photo_804125377400553474.jpg]</td>\n      <td>[[[[ -84.939  -97.779 -104.68 ], [ -84.939  -9...</td>\n    </tr>\n  </tbody>\n</table>\n</div>",
      "text/plain": "                              postMedia  \\\n0                                    []   \n1  [media/photo_804119509338640385.jpg]   \n2                                    []   \n3                                    []   \n4  [media/photo_804125377400553474.jpg]   \n\n                                          imgMatrice  \n0                                               None  \n1  [[[[141.061   130.22101 124.32   ], [141.061  ...  \n2                                               None  \n3                                               None  \n4  [[[[ -84.939  -97.779 -104.68 ], [ -84.939  -9...  "
     },
     "execution_count": 46,
     "metadata": {},
     "output_type": "execute_result"
    }
   ],
   "source": [
    "#Load images to matrices\n",
    "\n",
    "def imgMatrice(row):\n",
    "    if not row:\n",
    "        return None #return none if no image\n",
    "    filename = row[0]\n",
    "    img = load_img(\"data/\"+filename,  target_size = (224, 224)) \n",
    "    img = img_to_array(img)\n",
    "    #expand 1 dimension, required by vgg model\n",
    "    img = img.reshape((1,) + img.shape)\n",
    "    #preprocessing will scale pixels between 0 and 1 and then will normalize each channel with respect to the ImageNet dataset.\n",
    "    img = imagenet_utils.preprocess_input(img) \n",
    "    return img\n",
    "\n",
    "instancesDf[\"imgMatrice\"]=instancesDf[\"postMedia\"].apply(lambda row : imgMatrice(row))\n",
    "instancesDf[[\"postMedia\", \"imgMatrice\"]].head()"
   ]
  },
  {
   "cell_type": "code",
   "execution_count": 47,
   "metadata": {},
   "outputs": [
    {
     "data": {
      "text/plain": "(1, 224, 224, 3)"
     },
     "execution_count": 47,
     "metadata": {},
     "output_type": "execute_result"
    }
   ],
   "source": [
    "#example\n",
    "instancesDf[\"imgMatrice\"][1].shape"
   ]
  },
  {
   "cell_type": "code",
   "execution_count": 48,
   "metadata": {},
   "outputs": [],
   "source": [
    "# Import VGG19 Model and create a new model\n",
    "vgg = VGG19(include_top=True) #include the top dense layers\n",
    "model = Model(vgg.input, vgg.output)"
   ]
  },
  {
   "cell_type": "code",
   "execution_count": 49,
   "metadata": {},
   "outputs": [
    {
     "data": {
      "text/plain": "array([7.37001127e-09, 1.08894506e-06, 8.52247883e-10, 1.26938487e-10,\n       1.80927703e-10, 1.53711799e-08, 2.54399768e-09, 1.54720767e-11,\n       1.41099202e-10, 8.24914997e-11, 2.15442664e-09, 2.89638286e-10,\n       1.75341830e-09, 1.74813219e-09, 8.16518742e-10, 1.25421384e-09,\n       7.13699211e-10, 2.69855194e-10, 9.95284133e-11, 7.02682579e-10,\n       8.25782775e-10, 1.25086150e-10, 5.92673003e-12, 2.24026839e-11,\n       6.97519820e-11, 2.19575846e-09, 9.52303907e-08, 6.11848208e-08,\n       9.08191833e-09, 1.29039703e-08, 7.75786713e-10, 2.36310456e-08,\n       6.78376066e-09, 8.78099427e-10, 1.93719846e-10, 1.32342337e-09,\n       1.47126995e-08, 8.01786415e-10, 3.96771727e-09, 3.11154191e-09,\n       2.63006630e-08, 3.65238195e-09, 7.32024552e-10, 1.07241571e-09,\n       8.09115941e-10, 2.53169652e-10, 1.09717382e-08, 1.19235066e-08,\n       1.64997238e-10, 6.57185861e-10, 3.20099308e-10, 3.27858407e-10,\n       1.96716554e-09, 1.62400238e-09, 6.05417605e-10, 6.30506813e-10,\n       1.37200684e-09, 1.74658829e-10, 1.92456096e-08, 7.98325939e-09,\n       8.97663610e-10, 2.02695902e-10, 3.20366206e-10, 3.00027753e-10,\n       1.93670435e-09, 1.18264909e-09, 6.38733200e-09, 4.13620305e-10,\n       4.18518276e-10, 3.50216411e-10, 6.07500255e-08, 1.01328874e-08,\n       2.86404922e-09, 1.23046036e-08, 8.96851216e-09, 1.45713601e-08,\n       5.93090854e-10, 7.64826691e-09, 1.95498018e-08, 1.05916797e-07,\n       1.51291035e-10, 2.72206112e-11, 7.12438386e-10, 2.97379066e-10,\n       7.41386605e-11, 8.77650674e-10, 1.38817702e-09, 1.94220506e-09,\n       3.82103821e-10, 1.09654508e-10, 2.77593326e-08, 2.47783266e-10,\n       1.54123603e-09, 1.90562691e-10, 1.03434729e-07, 7.64177788e-09,\n       1.10200749e-09, 8.73513553e-11, 1.76074350e-10, 1.87508842e-10,\n       1.79603971e-10, 4.56119482e-11, 5.27235096e-11, 2.87184987e-09,\n       1.81767879e-10, 2.57611071e-10, 5.44863887e-09, 4.23771818e-09,\n       7.25050686e-09, 2.53544158e-10, 1.29637755e-07, 3.36050874e-07,\n       9.16370340e-08, 3.50146010e-08, 3.33434258e-08, 3.36108258e-07,\n       6.77493261e-08, 9.17982756e-09, 1.93115602e-06, 3.67691086e-08,\n       1.27706743e-08, 4.97464441e-07, 4.21226162e-07, 1.78732137e-07,\n       2.75959724e-06, 7.30702823e-08, 2.22937345e-07, 1.24595091e-11,\n       1.85898432e-11, 5.07099883e-11, 5.33288240e-11, 1.17898191e-10,\n       1.90287383e-10, 1.44560008e-09, 3.48480633e-10, 1.42760326e-09,\n       1.78845505e-09, 3.38951645e-10, 1.06558470e-10, 1.70467862e-09,\n       7.64635555e-09, 3.68269054e-10, 1.00738617e-08, 1.41834738e-10,\n       6.40921899e-11, 2.66192901e-10, 1.10866059e-10, 3.51837864e-11,\n       1.02786495e-11, 3.64929559e-10, 9.95007521e-10, 1.63383653e-08,\n       1.01405384e-09, 5.64749758e-09, 1.00262398e-09, 9.97843141e-10,\n       8.95041041e-10, 3.13055559e-09, 2.68134634e-08, 2.94272384e-10,\n       2.15704885e-10, 9.56794532e-10, 9.84192727e-09, 3.13261017e-09,\n       5.77689063e-10, 3.16854959e-10, 1.51755264e-09, 7.44678097e-09,\n       2.69481393e-09, 3.22304794e-10, 3.56049218e-10, 5.76467263e-10,\n       2.60527433e-10, 3.17238930e-10, 4.84055573e-10, 4.05697200e-08,\n       4.22406998e-10, 1.42108783e-10, 7.00959735e-10, 4.03695244e-10,\n       4.52024113e-10, 1.17879362e-09, 1.81025577e-08, 4.20030510e-10,\n       5.89881566e-09, 4.89609775e-08, 1.33102802e-07, 2.28830359e-08,\n       1.36676812e-08, 1.10814167e-08, 1.90655136e-09, 1.87600158e-09,\n       1.30878364e-09, 2.47620999e-08, 4.51381865e-08, 6.48474399e-11,\n       3.47897045e-09, 3.45136864e-10, 9.20424625e-10, 4.27461205e-10,\n       1.96646766e-09, 8.85738416e-09, 2.55707877e-09, 1.31793454e-09,\n       1.83981119e-09, 2.75024892e-10, 1.14664056e-10, 7.98363953e-09,\n       2.22711449e-09, 8.34301794e-10, 8.37224942e-11, 1.74399595e-09,\n       6.51279808e-10, 3.35303812e-10, 3.20489080e-10, 3.59944019e-10,\n       1.44889867e-09, 1.07026697e-11, 7.43657191e-10, 3.62498004e-10,\n       3.54482066e-09, 2.34988778e-10, 3.70421915e-10, 6.91354529e-10,\n       4.74792705e-10, 1.09927789e-10, 2.34135156e-10, 4.71750639e-10,\n       1.01787072e-10, 9.55872881e-11, 2.27663932e-09, 1.20213950e-09,\n       1.84671167e-10, 5.11333809e-10, 9.41122069e-10, 1.42260181e-09,\n       5.77250747e-10, 4.22009205e-10, 1.96077765e-10, 1.51162388e-10,\n       1.01702713e-09, 5.32866529e-10, 1.81285223e-10, 1.02010587e-10,\n       2.90870772e-09, 1.96766353e-10, 3.73750336e-10, 2.46161896e-10,\n       4.43961712e-09, 2.79988166e-09, 2.16386553e-09, 9.11839285e-11,\n       1.00778730e-09, 4.41877557e-09, 1.16175999e-10, 3.24736682e-10,\n       1.10778768e-10, 1.14089282e-09, 1.45344015e-10, 3.56080818e-08,\n       5.17872012e-09, 1.01913789e-09, 1.01023911e-09, 2.15549232e-08,\n       7.81731069e-10, 3.51169938e-08, 6.42902265e-09, 3.58665209e-10,\n       4.39604442e-09, 6.44507026e-09, 8.30067015e-10, 2.89764968e-09,\n       2.47402299e-09, 9.02746411e-09, 8.20770507e-10, 4.06076117e-10,\n       4.98433350e-10, 3.77660303e-09, 2.81284063e-09, 2.22668128e-09,\n       4.65290917e-09, 8.44442238e-10, 8.76988437e-09, 1.68235237e-09,\n       1.99990829e-10, 7.02537861e-10, 4.29496994e-10, 4.20361496e-10,\n       5.52538709e-11, 8.62114269e-11, 1.25495739e-10, 9.21769883e-11,\n       1.16674309e-10, 1.67083916e-10, 2.39262277e-10, 1.81508725e-10,\n       1.05608355e-09, 4.67140326e-10, 1.11343135e-09, 2.06798334e-09,\n       4.56308165e-08, 4.08805221e-07, 2.44770657e-08, 2.17603908e-08,\n       2.73478413e-08, 5.32273337e-10, 2.12899387e-09, 1.42147965e-08,\n       2.30650148e-08, 3.14119184e-08, 7.22082177e-07, 1.31993261e-08,\n       2.99964654e-07, 9.11266085e-08, 1.37135288e-07, 8.16563556e-07,\n       4.59267957e-09, 4.01367011e-08, 6.10737106e-06, 1.48009951e-08,\n       2.03384669e-08, 1.59021163e-09, 1.09145215e-09, 2.11900764e-09,\n       7.31930028e-09, 3.26777432e-08, 8.51348236e-09, 6.03163430e-09,\n       3.70669646e-08, 3.57421968e-08, 3.47748941e-10, 1.40497725e-09,\n       1.50715374e-09, 2.53025206e-07, 4.64874894e-09, 7.28913374e-10,\n       2.56653754e-10, 4.02300326e-09, 9.55941282e-09, 1.73954566e-11,\n       2.47915039e-11, 6.64368394e-10, 1.12826297e-10, 2.74715962e-11,\n       1.49625173e-10, 2.87256451e-11, 1.72303907e-10, 7.43159145e-11,\n       3.13380849e-11, 9.57432484e-12, 8.00678066e-11, 3.07484246e-11,\n       5.42736030e-11, 1.27841390e-10, 2.92621101e-11, 5.52591410e-11,\n       9.11489018e-09, 1.94222749e-09, 1.42196503e-08, 1.25952937e-08,\n       4.31060410e-10, 1.04033926e-09, 1.05890177e-08, 1.64012012e-10,\n       1.86120008e-09, 4.36199021e-10, 6.67933348e-11, 6.01034778e-11,\n       7.12881532e-10, 1.10638131e-10, 1.69555359e-09, 7.76148212e-09,\n       1.37481443e-10, 6.95977276e-10, 2.90706986e-10, 4.49503906e-11,\n       1.77573498e-10, 1.97458228e-09, 2.01481831e-09, 6.63789579e-10,\n       3.51044029e-08, 1.03345488e-09, 3.38179653e-08, 4.13471229e-10,\n       2.62550870e-09, 2.39797265e-10, 1.84163587e-10, 6.53511201e-09,\n       6.85606433e-11, 1.08101028e-09, 1.03396947e-09, 4.18133694e-10,\n       2.49502086e-09, 9.41723699e-10, 6.40626441e-10, 1.90558058e-09,\n       1.23238098e-09, 9.04758046e-09, 5.79722830e-08, 1.57811569e-10,\n       1.61513899e-10, 3.92445298e-10, 7.30723393e-09, 2.80102330e-10,\n       1.84062807e-10, 1.44753348e-10, 8.47388437e-10, 4.59926902e-10,\n       1.31767500e-10, 1.55140413e-07, 1.90419733e-08, 1.22852564e-08,\n       3.55799088e-08, 3.11650594e-10, 2.29048447e-10, 1.88634246e-07,\n       5.32507649e-11, 7.24834992e-09, 8.46313064e-09, 5.41897940e-08,\n       7.93298671e-09, 1.73735484e-10, 3.08294223e-10, 3.35941865e-11,\n       1.81729409e-10, 1.28873301e-10, 4.26625135e-08, 6.14065732e-09,\n       4.54454385e-09, 1.58635216e-09, 2.02710598e-10, 1.00832376e-09,\n       1.33010170e-09, 3.96258182e-09, 3.58794705e-09, 1.07932813e-07,\n       4.17566016e-11, 6.08002759e-10, 3.20165412e-07, 6.03477268e-10,\n       3.76213976e-08, 1.30155638e-06, 1.02424547e-09, 5.34647668e-08,\n       2.04376776e-11, 1.70602449e-10, 4.40479625e-10, 1.15533905e-09,\n       6.36900754e-10, 2.63407962e-10, 9.89494042e-11, 6.88208175e-08,\n       2.33053932e-09, 1.56238592e-10, 2.72450895e-10, 4.93749184e-08,\n       5.32053290e-09, 6.53850352e-09, 1.35886732e-10, 4.94910279e-10,\n       1.79574508e-10, 1.11862741e-09, 1.02695275e-09, 3.60038121e-06,\n       2.39402667e-08, 4.20942170e-11, 1.77489162e-10, 1.87382262e-10,\n       7.99180166e-10, 1.02197562e-04, 2.01334515e-07, 1.57383814e-10,\n       2.13410720e-10, 5.82271618e-08, 9.07501713e-11, 7.54949347e-09,\n       8.36497538e-10, 3.87714166e-10, 2.68743272e-09, 2.24539565e-09,\n       1.54497609e-10, 5.16158838e-10, 3.42445100e-10, 4.29454416e-10,\n       1.48014614e-10, 8.95623353e-10, 1.11273502e-09, 1.42531242e-09,\n       4.89644991e-09, 6.50610898e-09, 5.25417321e-10, 7.20606852e-10,\n       1.86777815e-10, 1.29620009e-10, 3.35136008e-08, 7.39730110e-10,\n       4.59913974e-09, 6.22973395e-10, 6.29896191e-10, 5.69599692e-08,\n       5.81516016e-11, 3.43972802e-11, 8.43682346e-10, 9.81471260e-08,\n       6.25593998e-07, 2.11337010e-08, 1.41862486e-08, 8.57663440e-10,\n       1.59890079e-09, 3.24855307e-08, 8.41343084e-09, 5.57141389e-10,\n       7.86526400e-09, 8.79039563e-10, 5.57433405e-11, 5.28165689e-09,\n       5.41092837e-10, 1.44114287e-09, 4.69024097e-10, 1.12479720e-10,\n       4.32443081e-10, 3.67506182e-05, 2.42132625e-09, 1.90901378e-10,\n       1.97639752e-10, 1.70054373e-10, 2.25447508e-10, 4.82003604e-11,\n       2.21416219e-09, 1.21209742e-09, 2.81517010e-09, 7.27469285e-09,\n       2.20039666e-08, 5.90766591e-09, 7.68129205e-09, 1.42457035e-09,\n       4.46591736e-10, 2.97210090e-10, 8.11448075e-10, 2.17326615e-10,\n       2.78765766e-09, 2.18364238e-09, 3.67020347e-09, 4.66833017e-10,\n       3.26997542e-06, 1.93306926e-09, 3.12146309e-09, 4.44473000e-11,\n       8.94970625e-11, 3.53913898e-09, 7.27864835e-09, 2.08301945e-08,\n       2.05310369e-09, 2.58446129e-11, 2.95740126e-08, 9.71756120e-10,\n       1.49157087e-09, 2.10196291e-10, 2.22567798e-10, 8.12330758e-10,\n       6.33002317e-10, 8.62576399e-11, 7.85894994e-09, 9.16304754e-10,\n       3.66291962e-11, 4.96068421e-12, 2.42603670e-09, 1.47044466e-05,\n       3.64362499e-11, 3.49968027e-10, 5.69116176e-09, 1.74161491e-10,\n       1.28550425e-07, 1.27965569e-10, 1.43390233e-08, 2.48674331e-10,\n       9.72674052e-10, 6.29787493e-08, 1.31523181e-10, 4.07569839e-10,\n       2.28976060e-09, 8.51948789e-10, 4.10818544e-08, 1.26753164e-10,\n       2.41810739e-07, 2.45392262e-09, 1.11791021e-10, 8.24503299e-10,\n       7.72392728e-09, 1.83879023e-09, 4.23539914e-09, 6.68373668e-09,\n       6.27110541e-09, 1.52788915e-09, 3.30292488e-10, 2.99341246e-10,\n       1.35726974e-09, 1.37274178e-10, 2.05641032e-10, 2.98884856e-06,\n       1.25029267e-08, 5.68876821e-11, 6.25727858e-10, 3.20989312e-11,\n       4.35782610e-09, 1.71712145e-09, 8.02799871e-09, 1.31092790e-08,\n       2.37077247e-10, 1.15614029e-11, 6.17000850e-09, 1.02173479e-08,\n       1.78078767e-11, 1.45447510e-09, 2.24398153e-10, 1.70926509e-10,\n       6.94681868e-09, 6.13645401e-09, 6.60947117e-04, 1.04460476e-08,\n       2.49986054e-09, 2.09229509e-10, 2.78368883e-09, 6.02345196e-08,\n       9.92628646e-10, 9.32415367e-10, 1.36548870e-08, 1.73240131e-10,\n       1.58841706e-09, 2.14001061e-09, 1.34988534e-10, 4.71723247e-08,\n       3.04445719e-10, 3.05033109e-06, 4.22933216e-11, 1.92639344e-08,\n       5.00186670e-10, 5.68613247e-11, 2.23191438e-10, 5.66714106e-11,\n       4.64862003e-11, 5.51915988e-08, 5.43492196e-11, 6.50537402e-10,\n       2.74879390e-08, 1.43661388e-10, 2.10810702e-09, 1.64787957e-06,\n       1.29620634e-08, 4.67929237e-11, 4.51889015e-09, 6.22845704e-08,\n       8.89009144e-11, 1.74660242e-09, 5.03819375e-10, 1.35770922e-10,\n       3.96755628e-10, 6.50164034e-10, 1.53897499e-08, 1.47978644e-04,\n       8.84602877e-11, 9.97056882e-11, 8.82805384e-09, 2.71545619e-10,\n       6.80927270e-09, 3.57902569e-10, 2.45605115e-05, 3.78688692e-10,\n       1.08120568e-10, 3.42987666e-10, 5.00576081e-10, 3.87504716e-11,\n       3.67581326e-10, 1.89454621e-08, 7.38773087e-09, 6.68658601e-11,\n       3.90527777e-10, 1.69648615e-08, 9.08773945e-09, 5.80900554e-08,\n       1.16921427e-07, 5.39230105e-10, 2.30255218e-10, 1.73753134e-09,\n       2.52897103e-09, 3.50208573e-09, 1.25833055e-09, 4.76881090e-10,\n       1.51933377e-09, 1.04216587e-10, 2.33085384e-10, 3.63044128e-09,\n       1.82655174e-06, 3.56246388e-09, 3.09229597e-09, 4.45637888e-10,\n       7.95871742e-08, 9.45143963e-11, 2.08065468e-10, 3.96473654e-09,\n       7.18168636e-08, 7.28846650e-10, 1.72004785e-10, 6.79962267e-11,\n       5.03928010e-10, 5.09583264e-10, 1.01178377e-09, 1.64680311e-10,\n       3.65153713e-10, 4.31865708e-08, 3.61566848e-08, 6.96437086e-09,\n       1.44089368e-04, 3.59312941e-10, 1.00129490e-07, 5.25318122e-10,\n       6.71261879e-10, 2.32911954e-11, 1.97890682e-09, 2.85753421e-09,\n       1.01391811e-06, 3.84352938e-10, 4.83498070e-07, 6.30815089e-09,\n       3.26532273e-10, 1.12014121e-07, 9.93384375e-10, 6.71485978e-10,\n       6.23623997e-09, 9.37315825e-09, 1.82168391e-10, 3.05412517e-09,\n       2.00465158e-10, 4.10847911e-10, 1.78268390e-11, 6.35352257e-11,\n       8.58758453e-10, 5.75463801e-08, 5.20817203e-08, 6.92274238e-10,\n       3.98006428e-09, 1.38753314e-10, 1.07454923e-09, 9.87474685e-11,\n       1.44299672e-09, 8.25099489e-10, 2.15363070e-08, 2.62100952e-10,\n       3.24567173e-09, 3.72541331e-09, 2.78241846e-10, 3.30642957e-10,\n       2.15082996e-09, 1.73671549e-10, 1.45453338e-09, 2.36367126e-09,\n       3.58500563e-09, 1.02695817e-10, 2.86622033e-08, 1.14915677e-09,\n       6.40410525e-09, 6.57121024e-09, 5.99949658e-07, 2.34540998e-10,\n       4.90034090e-11, 8.18500545e-10, 3.90441031e-08, 8.24922086e-09,\n       2.95386937e-10, 2.50255368e-07, 7.39102182e-11, 1.34101896e-10,\n       7.97982267e-08, 9.70255130e-08, 1.15535004e-09, 3.29038685e-10,\n       7.20906501e-10, 2.04899986e-09, 5.15138439e-08, 9.47485423e-10,\n       2.80667600e-10, 3.50555945e-10, 1.56364255e-08, 5.38258540e-08,\n       2.62760427e-08, 1.82574444e-09, 2.37350528e-10, 9.85169279e-09,\n       9.41642389e-11, 1.93695837e-10, 7.38612869e-08, 2.36440978e-10,\n       3.76033510e-10, 7.11186976e-09, 2.53830623e-10, 2.87969759e-10,\n       2.23047594e-10, 4.33486080e-10, 1.57605595e-09, 2.23000382e-10,\n       1.52724458e-10, 2.09746942e-10, 3.44990564e-11, 1.20069982e-10,\n       1.96196943e-08, 2.16164947e-10, 3.44472617e-10, 3.21932658e-09,\n       1.76917485e-08, 3.71946484e-01, 4.26890051e-10, 1.01415631e-09,\n       4.65754413e-09, 3.48992035e-05, 1.30135591e-09, 4.37289032e-08,\n       1.61246194e-09, 3.11268011e-10, 4.09677881e-07, 9.01113004e-11,\n       1.35004494e-10, 3.78749565e-09, 3.64380237e-09, 2.02765227e-09,\n       1.79192342e-10, 1.62804881e-10, 1.43532730e-09, 1.83757809e-08,\n       1.04202598e-04, 2.08921369e-09, 1.04045980e-10, 2.29509384e-10,\n       2.60988481e-10, 1.54799354e-10, 5.68151692e-10, 8.14282686e-09,\n       1.45233034e-08, 5.52480515e-08, 8.14458190e-09, 2.30314190e-09,\n       1.85641014e-09, 2.36873499e-09, 9.52359192e-10, 8.17776458e-10,\n       4.54410198e-09, 2.06442974e-06, 5.86269788e-09, 1.08070455e-10,\n       1.28869374e-10, 4.53019737e-08, 1.95747907e-09, 4.16784296e-09,\n       2.15130296e-08, 2.66906549e-11, 4.39490222e-10, 3.01297291e-07,\n       7.19292681e-10, 6.83909804e-11, 1.37332312e-10, 1.23824853e-08,\n       9.40689637e-10, 2.14705523e-07, 7.03052949e-09, 2.73570706e-12,\n       5.50701672e-11, 8.07795997e-10, 5.59810809e-10, 3.92695376e-10,\n       1.39108420e-06, 2.73624207e-10, 1.54576310e-10, 2.58619848e-10,\n       6.53067322e-10, 2.63300493e-10, 3.12702697e-10, 1.56580260e-09,\n       7.12619155e-08, 8.13842396e-11, 7.08064107e-10, 1.68441050e-09,\n       1.98577224e-10, 2.42292228e-11, 6.93764907e-11, 2.11720685e-08,\n       8.14763867e-10, 3.80150000e-09, 1.76634583e-08, 1.86139182e-09,\n       3.75567577e-10, 8.09289258e-09, 1.59048080e-10, 3.99101063e-09,\n       4.15567825e-07, 3.52222113e-10, 2.69275071e-11, 3.16929288e-10,\n       5.38342739e-08, 6.88789257e-08, 6.42999165e-09, 1.93095495e-08,\n       7.08532899e-10, 8.84921114e-09, 6.48226495e-09, 1.13285226e-09,\n       1.78596071e-08, 4.88606378e-10, 3.40549189e-09, 4.45357067e-08,\n       4.43768439e-10, 1.27183584e-05, 1.22108060e-04, 5.07030529e-10,\n       6.51684873e-10, 9.47790388e-11, 4.07628875e-10, 1.03953096e-11,\n       5.22327115e-09, 1.23719968e-09, 5.11151015e-08, 1.93172672e-10,\n       5.05147524e-09, 3.87223631e-09, 1.49573816e-06, 2.00026063e-03,\n       2.05695018e-04, 6.00768507e-01, 3.96751007e-03, 2.58842920e-06,\n       2.62446520e-05, 3.01756785e-07, 1.33767765e-06, 7.16746854e-06,\n       3.70421049e-07, 1.52491822e-07, 2.91083234e-06, 2.00786802e-04,\n       4.08882624e-06, 3.23673419e-04, 3.02044427e-05, 5.47950094e-06,\n       2.96147846e-05, 2.70595738e-05, 3.10490694e-04, 7.73281645e-05,\n       1.36836519e-07, 4.28208750e-06, 1.13846466e-09, 7.28189525e-06,\n       1.60685363e-06, 2.95162795e-06, 3.14264798e-06, 9.57721568e-07,\n       2.57693046e-07, 9.41093049e-07, 4.27547278e-08, 2.27080754e-08,\n       2.72539520e-08, 1.54332895e-07, 8.14784074e-10, 5.03984520e-05,\n       5.45181251e-08, 2.11036820e-07, 2.23160077e-05, 3.27354496e-06,\n       1.07965362e-03, 1.15296782e-04, 1.52418477e-06, 1.05223069e-06,\n       2.76426344e-05, 4.31971188e-04, 4.60200683e-10, 8.01234194e-07,\n       2.78145285e-10, 2.08140993e-09, 2.62232458e-10, 3.01684522e-09,\n       1.09311882e-09, 6.74376821e-09, 5.68231107e-09, 1.21790425e-10,\n       5.01742259e-10, 1.71378647e-10, 7.24898586e-09, 1.70011560e-10,\n       6.88273483e-09, 4.94266494e-08, 2.34308517e-10, 1.68104488e-02,\n       1.85735601e-07, 1.09612223e-07, 4.29032383e-08, 6.88970880e-09,\n       2.12136740e-07, 2.09755857e-09, 5.21577403e-09, 1.47114649e-08,\n       5.60263516e-07, 5.18445153e-09, 3.76095450e-05, 1.99176275e-09],\n      dtype=float32)"
     },
     "execution_count": 49,
     "metadata": {},
     "output_type": "execute_result"
    }
   ],
   "source": [
    "#example\n",
    "model.predict(instancesDf[\"imgMatrice\"][1])[0]"
   ]
  },
  {
   "cell_type": "code",
   "execution_count": 50,
   "metadata": {},
   "outputs": [
    {
     "data": {
      "text/html": "<div>\n<style scoped>\n    .dataframe tbody tr th:only-of-type {\n        vertical-align: middle;\n    }\n\n    .dataframe tbody tr th {\n        vertical-align: top;\n    }\n\n    .dataframe thead th {\n        text-align: right;\n    }\n</style>\n<table border=\"1\" class=\"dataframe\">\n  <thead>\n    <tr style=\"text-align: right;\">\n      <th></th>\n      <th>postMedia</th>\n      <th>imgMatrice</th>\n      <th>imgEmbeddings</th>\n    </tr>\n  </thead>\n  <tbody>\n    <tr>\n      <th>0</th>\n      <td>[]</td>\n      <td>None</td>\n      <td>[0.0, 0.0, 0.0, 0.0, 0.0, 0.0, 0.0, 0.0, 0.0, ...</td>\n    </tr>\n    <tr>\n      <th>1</th>\n      <td>[media/photo_804119509338640385.jpg]</td>\n      <td>[[[[141.061   130.22101 124.32   ], [141.061  ...</td>\n      <td>[7.3700113e-09, 1.088945e-06, 8.522479e-10, 1....</td>\n    </tr>\n    <tr>\n      <th>2</th>\n      <td>[]</td>\n      <td>None</td>\n      <td>[0.0, 0.0, 0.0, 0.0, 0.0, 0.0, 0.0, 0.0, 0.0, ...</td>\n    </tr>\n    <tr>\n      <th>3</th>\n      <td>[]</td>\n      <td>None</td>\n      <td>[0.0, 0.0, 0.0, 0.0, 0.0, 0.0, 0.0, 0.0, 0.0, ...</td>\n    </tr>\n    <tr>\n      <th>4</th>\n      <td>[media/photo_804125377400553474.jpg]</td>\n      <td>[[[[ -84.939  -97.779 -104.68 ], [ -84.939  -9...</td>\n      <td>[3.7560321e-06, 1.1203034e-06, 3.1840239e-06, ...</td>\n    </tr>\n  </tbody>\n</table>\n</div>",
      "text/plain": "                              postMedia  \\\n0                                    []   \n1  [media/photo_804119509338640385.jpg]   \n2                                    []   \n3                                    []   \n4  [media/photo_804125377400553474.jpg]   \n\n                                          imgMatrice  \\\n0                                               None   \n1  [[[[141.061   130.22101 124.32   ], [141.061  ...   \n2                                               None   \n3                                               None   \n4  [[[[ -84.939  -97.779 -104.68 ], [ -84.939  -9...   \n\n                                       imgEmbeddings  \n0  [0.0, 0.0, 0.0, 0.0, 0.0, 0.0, 0.0, 0.0, 0.0, ...  \n1  [7.3700113e-09, 1.088945e-06, 8.522479e-10, 1....  \n2  [0.0, 0.0, 0.0, 0.0, 0.0, 0.0, 0.0, 0.0, 0.0, ...  \n3  [0.0, 0.0, 0.0, 0.0, 0.0, 0.0, 0.0, 0.0, 0.0, ...  \n4  [3.7560321e-06, 1.1203034e-06, 3.1840239e-06, ...  "
     },
     "execution_count": 50,
     "metadata": {},
     "output_type": "execute_result"
    }
   ],
   "source": [
    "#Predict using model to get embeddings for each image\n",
    "def getImageEmbeddings(row):\n",
    "    if row is None:\n",
    "        return numpy.zeros(1000)\n",
    "    return model.predict(row)[0]\n",
    "\n",
    "instancesDf[\"imgEmbeddings\"]=instancesDf[\"imgMatrice\"].apply(lambda row : getImageEmbeddings(row))\n",
    "instancesDf[[\"postMedia\", \"imgMatrice\", \"imgEmbeddings\"]].head()"
   ]
  },
  {
   "cell_type": "code",
   "execution_count": 51,
   "metadata": {},
   "outputs": [
    {
     "data": {
      "text/html": "<div>\n<style scoped>\n    .dataframe tbody tr th:only-of-type {\n        vertical-align: middle;\n    }\n\n    .dataframe tbody tr th {\n        vertical-align: top;\n    }\n\n    .dataframe thead th {\n        text-align: right;\n    }\n</style>\n<table border=\"1\" class=\"dataframe\">\n  <thead>\n    <tr style=\"text-align: right;\">\n      <th></th>\n      <th>postMedia</th>\n      <th>imgMatrice</th>\n      <th>imgEmbeddings</th>\n      <th>imgFeatures</th>\n    </tr>\n  </thead>\n  <tbody>\n    <tr>\n      <th>0</th>\n      <td>[]</td>\n      <td>None</td>\n      <td>[0.0, 0.0, 0.0, 0.0, 0.0, 0.0, 0.0, 0.0, 0.0, ...</td>\n      <td>toilet_tissue</td>\n    </tr>\n    <tr>\n      <th>1</th>\n      <td>[media/photo_804119509338640385.jpg]</td>\n      <td>[[[[141.061   130.22101 124.32   ], [141.061  ...</td>\n      <td>[7.3700113e-09, 1.088945e-06, 8.522479e-10, 1....</td>\n      <td>consomme</td>\n    </tr>\n    <tr>\n      <th>2</th>\n      <td>[]</td>\n      <td>None</td>\n      <td>[0.0, 0.0, 0.0, 0.0, 0.0, 0.0, 0.0, 0.0, 0.0, ...</td>\n      <td>toilet_tissue</td>\n    </tr>\n    <tr>\n      <th>3</th>\n      <td>[]</td>\n      <td>None</td>\n      <td>[0.0, 0.0, 0.0, 0.0, 0.0, 0.0, 0.0, 0.0, 0.0, ...</td>\n      <td>toilet_tissue</td>\n    </tr>\n    <tr>\n      <th>4</th>\n      <td>[media/photo_804125377400553474.jpg]</td>\n      <td>[[[[ -84.939  -97.779 -104.68 ], [ -84.939  -9...</td>\n      <td>[3.7560321e-06, 1.1203034e-06, 3.1840239e-06, ...</td>\n      <td>rugby_ball</td>\n    </tr>\n    <tr>\n      <th>...</th>\n      <td>...</td>\n      <td>...</td>\n      <td>...</td>\n      <td>...</td>\n    </tr>\n    <tr>\n      <th>19533</th>\n      <td>[]</td>\n      <td>None</td>\n      <td>[0.0, 0.0, 0.0, 0.0, 0.0, 0.0, 0.0, 0.0, 0.0, ...</td>\n      <td>toilet_tissue</td>\n    </tr>\n    <tr>\n      <th>19534</th>\n      <td>[media/photo_858459536574828544.jpg]</td>\n      <td>[[[[-103.939 -116.779 -123.68 ], [-103.939 -11...</td>\n      <td>[2.830179e-06, 3.861402e-07, 1.6875177e-06, 2....</td>\n      <td>shield</td>\n    </tr>\n    <tr>\n      <th>19535</th>\n      <td>[media/photo_858460986612862976.jpg, media/pho...</td>\n      <td>[[[[55.060997  22.221     -1.6800003], [55.060...</td>\n      <td>[3.848476e-05, 9.711091e-07, 3.2865377e-05, 2....</td>\n      <td>military_uniform</td>\n    </tr>\n    <tr>\n      <th>19536</th>\n      <td>[]</td>\n      <td>None</td>\n      <td>[0.0, 0.0, 0.0, 0.0, 0.0, 0.0, 0.0, 0.0, 0.0, ...</td>\n      <td>toilet_tissue</td>\n    </tr>\n    <tr>\n      <th>19537</th>\n      <td>[media/photo_858026213083799552.jpg]</td>\n      <td>[[[[ -76.939  -81.779 -105.68 ], [ -81.939  -8...</td>\n      <td>[1.7560669e-06, 1.1678828e-05, 1.6790996e-06, ...</td>\n      <td>spatula</td>\n    </tr>\n  </tbody>\n</table>\n<p>19538 rows × 4 columns</p>\n</div>",
      "text/plain": "                                               postMedia  \\\n0                                                     []   \n1                   [media/photo_804119509338640385.jpg]   \n2                                                     []   \n3                                                     []   \n4                   [media/photo_804125377400553474.jpg]   \n...                                                  ...   \n19533                                                 []   \n19534               [media/photo_858459536574828544.jpg]   \n19535  [media/photo_858460986612862976.jpg, media/pho...   \n19536                                                 []   \n19537               [media/photo_858026213083799552.jpg]   \n\n                                              imgMatrice  \\\n0                                                   None   \n1      [[[[141.061   130.22101 124.32   ], [141.061  ...   \n2                                                   None   \n3                                                   None   \n4      [[[[ -84.939  -97.779 -104.68 ], [ -84.939  -9...   \n...                                                  ...   \n19533                                               None   \n19534  [[[[-103.939 -116.779 -123.68 ], [-103.939 -11...   \n19535  [[[[55.060997  22.221     -1.6800003], [55.060...   \n19536                                               None   \n19537  [[[[ -76.939  -81.779 -105.68 ], [ -81.939  -8...   \n\n                                           imgEmbeddings       imgFeatures  \n0      [0.0, 0.0, 0.0, 0.0, 0.0, 0.0, 0.0, 0.0, 0.0, ...     toilet_tissue  \n1      [7.3700113e-09, 1.088945e-06, 8.522479e-10, 1....          consomme  \n2      [0.0, 0.0, 0.0, 0.0, 0.0, 0.0, 0.0, 0.0, 0.0, ...     toilet_tissue  \n3      [0.0, 0.0, 0.0, 0.0, 0.0, 0.0, 0.0, 0.0, 0.0, ...     toilet_tissue  \n4      [3.7560321e-06, 1.1203034e-06, 3.1840239e-06, ...        rugby_ball  \n...                                                  ...               ...  \n19533  [0.0, 0.0, 0.0, 0.0, 0.0, 0.0, 0.0, 0.0, 0.0, ...     toilet_tissue  \n19534  [2.830179e-06, 3.861402e-07, 1.6875177e-06, 2....            shield  \n19535  [3.848476e-05, 9.711091e-07, 3.2865377e-05, 2....  military_uniform  \n19536  [0.0, 0.0, 0.0, 0.0, 0.0, 0.0, 0.0, 0.0, 0.0, ...     toilet_tissue  \n19537  [1.7560669e-06, 1.1678828e-05, 1.6790996e-06, ...           spatula  \n\n[19538 rows x 4 columns]"
     },
     "execution_count": 51,
     "metadata": {},
     "output_type": "execute_result"
    }
   ],
   "source": [
    "#get features to feature description. Get only most probable feature\n",
    "instancesDf[\"imgFeatures\"]=instancesDf[\"imgEmbeddings\"].apply(lambda row : decode_predictions(numpy.array([row]))[0][0][1])\n",
    "instancesDf[[\"postMedia\", \"imgMatrice\", \"imgEmbeddings\", \"imgFeatures\"]]"
   ]
  },
  {
   "cell_type": "code",
   "execution_count": 52,
   "metadata": {},
   "outputs": [],
   "source": [
    "# Get train and test data according to train and test indexes\n",
    "imagesInputTrain = instancesDf[instancesDf['id'].isin(trainIndexes)][\"imgEmbeddings\"].tolist()\n",
    "imagesInputTest = instancesDf[instancesDf['id'].isin(testIndexes)][\"imgEmbeddings\"].tolist()"
   ]
  },
  {
   "cell_type": "code",
   "execution_count": 155,
   "metadata": {},
   "outputs": [],
   "source": [
    "pickle.dump(imagesInputTrain, open(\"binaries/imagesInputTrain.pkl\", 'wb'))\n",
    "pickle.dump(imagesInputTest, open(\"binaries/imagesInputTest.pkl\", 'wb'))"
   ]
  },
  {
   "cell_type": "markdown",
   "execution_count": null,
   "metadata": {},
   "outputs": [],
   "source": [
    "# OUTPUT"
   ]
  },
  {
   "cell_type": "code",
   "execution_count": 53,
   "metadata": {},
   "outputs": [
    {
     "data": {
      "text/html": "<div>\n<style scoped>\n    .dataframe tbody tr th:only-of-type {\n        vertical-align: middle;\n    }\n\n    .dataframe tbody tr th {\n        vertical-align: top;\n    }\n\n    .dataframe thead th {\n        text-align: right;\n    }\n</style>\n<table border=\"1\" class=\"dataframe\">\n  <thead>\n    <tr style=\"text-align: right;\">\n      <th></th>\n      <th>id</th>\n      <th>truthMean</th>\n      <th>truthClass</th>\n      <th>output</th>\n    </tr>\n  </thead>\n  <tbody>\n    <tr>\n      <th>0</th>\n      <td>804113781580328960</td>\n      <td>0.066667</td>\n      <td>no-clickbait</td>\n      <td>0</td>\n    </tr>\n    <tr>\n      <th>1</th>\n      <td>804119512010424320</td>\n      <td>0.733333</td>\n      <td>clickbait</td>\n      <td>1</td>\n    </tr>\n    <tr>\n      <th>2</th>\n      <td>804121272967983104</td>\n      <td>0.333333</td>\n      <td>no-clickbait</td>\n      <td>0</td>\n    </tr>\n    <tr>\n      <th>3</th>\n      <td>804123103995580416</td>\n      <td>0.066667</td>\n      <td>no-clickbait</td>\n      <td>0</td>\n    </tr>\n    <tr>\n      <th>4</th>\n      <td>804126501117435904</td>\n      <td>0.133333</td>\n      <td>no-clickbait</td>\n      <td>0</td>\n    </tr>\n  </tbody>\n</table>\n</div>",
      "text/plain": "                   id  truthMean    truthClass  output\n0  804113781580328960   0.066667  no-clickbait       0\n1  804119512010424320   0.733333     clickbait       1\n2  804121272967983104   0.333333  no-clickbait       0\n3  804123103995580416   0.066667  no-clickbait       0\n4  804126501117435904   0.133333  no-clickbait       0"
     },
     "execution_count": 53,
     "metadata": {},
     "output_type": "execute_result"
    }
   ],
   "source": [
    "#get the truth column, clickbait or not, to a list. Train and test, according to train and text indexes\n",
    "truthDic = {\"clickbait\":1, \"no-clickbait\":0}\n",
    "truthDf[\"output\"] = truthDf[\"truthClass\"].apply(lambda row : truthDic[row])\n",
    "truthDf[[\"id\", \"truthMean\", \"truthClass\", \"output\"]].head()"
   ]
  },
  {
   "cell_type": "code",
   "execution_count": 54,
   "metadata": {},
   "outputs": [],
   "source": [
    "outputTrain = truthDf[truthDf['id'].isin(trainIndexes)][\"output\"].to_list()\n",
    "outputTest = truthDf[truthDf['id'].isin(testIndexes)][\"output\"].to_list()"
   ]
  },
  {
   "cell_type": "code",
   "execution_count": 16,
   "metadata": {},
   "outputs": [],
   "source": [
    "pickle.dump(outputTrain, open(\"binaries/outputTrain.pkl\", 'wb'))\n",
    "pickle.dump(outputTest, open(\"binaries/outputTest.pkl\", 'wb'))"
   ]
  },
  {
   "cell_type": "markdown",
   "execution_count": null,
   "metadata": {},
   "outputs": [],
   "source": [
    "# In case we need this"
   ]
  },
  {
   "cell_type": "code",
   "execution_count": 55,
   "metadata": {},
   "outputs": [],
   "source": [
    "pickle.dump(truthDf, open(\"binaries/truthDf.pkl\", 'wb'))\n",
    "pickle.dump(instancesDf, open(\"binaries/instancesDf.pkl\", 'wb'))\n"
   ]
  },
  {
   "cell_type": "code",
   "execution_count": null,
   "metadata": {},
   "outputs": [],
   "source": []
  }
 ]
}